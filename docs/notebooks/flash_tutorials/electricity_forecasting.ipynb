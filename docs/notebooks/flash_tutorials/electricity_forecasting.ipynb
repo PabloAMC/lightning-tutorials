{
 "cells": [
  {
   "cell_type": "markdown",
   "id": "6541a316",
   "metadata": {
    "papermill": {
     "duration": 0.06165,
     "end_time": "2021-12-04T16:15:47.192259",
     "exception": false,
     "start_time": "2021-12-04T16:15:47.130609",
     "status": "completed"
    },
    "tags": []
   },
   "source": [
    "\n",
    "# Electricity Price Forecasting with N-BEATS\n",
    "\n",
    "* **Author:** Ethan Harris (ethan@pytorchlightning.ai)\n",
    "* **License:** CC BY-SA\n",
    "* **Generated:** 2021-12-04T16:52:54.779412\n",
    "\n",
    "This tutorial covers using Lightning Flash and it's integration with PyTorch Forecasting to train an autoregressive\n",
    "model (N-BEATS) on hourly electricity pricing data. We show how the built-in interpretability tools from PyTorch\n",
    "Forecasting can be used with Flash to plot the trend and daily seasonality in our data discovered by the model. We\n",
    "also cover how features from PyTorch Lightning such as the learning rate finder can be used easily with Flash. As a\n",
    "bonus, we show hat we can resample daily observations from the data to discover weekly trends instead.\n",
    "\n",
    "\n",
    "---\n",
    "Open in [![Open In Colab](data:image/png;base64,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){height=\"20px\" width=\"117px\"}](https://colab.research.google.com/github/PytorchLightning/lightning-tutorials/blob/publication/.notebooks/flash_tutorials/electricity_forecasting.ipynb)\n",
    "\n",
    "Give us a ⭐ [on Github](https://www.github.com/PytorchLightning/pytorch-lightning/)\n",
    "| Check out [the documentation](https://pytorch-lightning.readthedocs.io/en/latest/)\n",
    "| Join us [on Slack](https://join.slack.com/t/pytorch-lightning/shared_invite/zt-pw5v393p-qRaDgEk24~EjiZNBpSQFgQ)"
   ]
  },
  {
   "cell_type": "markdown",
   "id": "36fbd32e",
   "metadata": {
    "papermill": {
     "duration": 0.057135,
     "end_time": "2021-12-04T16:15:47.306440",
     "exception": false,
     "start_time": "2021-12-04T16:15:47.249305",
     "status": "completed"
    },
    "tags": []
   },
   "source": [
    "## Setup\n",
    "This notebook requires some packages besides pytorch-lightning."
   ]
  },
  {
   "cell_type": "code",
   "execution_count": 1,
   "id": "8735db56",
   "metadata": {
    "colab": {},
    "colab_type": "code",
    "execution": {
     "iopub.execute_input": "2021-12-04T16:15:47.429619Z",
     "iopub.status.busy": "2021-12-04T16:15:47.429142Z",
     "iopub.status.idle": "2021-12-04T16:15:50.566818Z",
     "shell.execute_reply": "2021-12-04T16:15:50.567217Z"
    },
    "id": "LfrJLKPFyhsK",
    "lines_to_next_cell": 0,
    "papermill": {
     "duration": 3.203618,
     "end_time": "2021-12-04T16:15:50.567497",
     "exception": false,
     "start_time": "2021-12-04T16:15:47.363879",
     "status": "completed"
    },
    "tags": []
   },
   "outputs": [],
   "source": [
    "! pip install --quiet \"torchmetrics>=0.3\" \"lightning-flash[tabular]>=0.5.2\" \"pandas==1.1.5\" \"pytorch-lightning>=1.3\" \"torch>=1.6, <1.9\""
   ]
  },
  {
   "cell_type": "markdown",
   "id": "d1e8bbb8",
   "metadata": {
    "papermill": {
     "duration": 0.057295,
     "end_time": "2021-12-04T16:15:50.683150",
     "exception": false,
     "start_time": "2021-12-04T16:15:50.625855",
     "status": "completed"
    },
    "tags": []
   },
   "source": [
    "In this tutorial we'll look at using [Lightning Flash](https://github.com/PyTorchLightning/lightning-flash) and it's\n",
    "integration with [PyTorch Forecasting](https://github.com/jdb78/pytorch-forecasting) for autoregressive modelling of\n",
    "electricity prices using [the N-BEATS model](https://arxiv.org/abs/1905.10437).\n",
    "We'll start by using N-BEATS to uncover daily patterns (seasonality) from hourly observations and then show how we can\n",
    "resample daily averages to uncover weekly patterns too.\n",
    "\n",
    "Along the way, we'll see how the built-in tools from PyTorch Lightning, like the learning rate finder, can be used\n",
    "seamlessly with Flash to help make the process of putting a model together as smooth as possible."
   ]
  },
  {
   "cell_type": "code",
   "execution_count": 2,
   "id": "dea43e87",
   "metadata": {
    "execution": {
     "iopub.execute_input": "2021-12-04T16:15:50.803579Z",
     "iopub.status.busy": "2021-12-04T16:15:50.803101Z",
     "iopub.status.idle": "2021-12-04T16:15:52.810858Z",
     "shell.execute_reply": "2021-12-04T16:15:52.811271Z"
    },
    "papermill": {
     "duration": 2.069909,
     "end_time": "2021-12-04T16:15:52.811425",
     "exception": false,
     "start_time": "2021-12-04T16:15:50.741516",
     "status": "completed"
    },
    "tags": []
   },
   "outputs": [],
   "source": [
    "\n",
    "import os\n",
    "\n",
    "import flash\n",
    "import matplotlib.pyplot as plt\n",
    "import pandas as pd\n",
    "import torch\n",
    "from flash.core.data.utils import download_data\n",
    "from flash.core.integrations.pytorch_forecasting import convert_predictions\n",
    "from flash.tabular.forecasting import TabularForecaster, TabularForecastingData\n",
    "\n",
    "DATASET_PATH = os.environ.get(\"PATH_DATASETS\", \"data/\")"
   ]
  },
  {
   "cell_type": "markdown",
   "id": "d1184b29",
   "metadata": {
    "papermill": {
     "duration": 0.057383,
     "end_time": "2021-12-04T16:15:52.927372",
     "exception": false,
     "start_time": "2021-12-04T16:15:52.869989",
     "status": "completed"
    },
    "tags": []
   },
   "source": [
    "## Loading the data\n",
    "\n",
    "We'll use the Spanish hourly energy demand generation and weather data set from Kaggle:\n",
    "https://www.kaggle.com/nicholasjhana/energy-consumption-generation-prices-and-weather\n",
    "\n",
    "First, download the data:"
   ]
  },
  {
   "cell_type": "code",
   "execution_count": 3,
   "id": "eafe035a",
   "metadata": {
    "execution": {
     "iopub.execute_input": "2021-12-04T16:15:53.049081Z",
     "iopub.status.busy": "2021-12-04T16:15:53.048608Z",
     "iopub.status.idle": "2021-12-04T16:15:53.428442Z",
     "shell.execute_reply": "2021-12-04T16:15:53.427972Z"
    },
    "papermill": {
     "duration": 0.440771,
     "end_time": "2021-12-04T16:15:53.428579",
     "exception": false,
     "start_time": "2021-12-04T16:15:52.987808",
     "status": "completed"
    },
    "tags": []
   },
   "outputs": [
    {
     "name": "stderr",
     "output_type": "stream",
     "text": [
      "/usr/local/lib/python3.9/dist-packages/urllib3/connectionpool.py:1013: InsecureRequestWarning: Unverified HTTPS request is being made to host 'pl-flash-data.s3.amazonaws.com'. Adding certificate verification is strongly advised. See: https://urllib3.readthedocs.io/en/1.26.x/advanced-usage.html#ssl-warnings\n",
      "  warnings.warn(\n"
     ]
    },
    {
     "data": {
      "application/vnd.jupyter.widget-view+json": {
       "model_id": "808a9f4129d94a04933f2870c88f1fa9",
       "version_major": 2,
       "version_minor": 0
      },
      "text/plain": [
       "/__w/1/s/.datasets/kaggle_electricity.zip:   0%|          | 0/3903 [00:00<?, ?KB/s]"
      ]
     },
     "metadata": {},
     "output_type": "display_data"
    }
   ],
   "source": [
    "download_data(\"https://pl-flash-data.s3.amazonaws.com/kaggle_electricity.zip\", DATASET_PATH)"
   ]
  },
  {
   "cell_type": "markdown",
   "id": "46986a52",
   "metadata": {
    "papermill": {
     "duration": 0.059555,
     "end_time": "2021-12-04T16:15:53.550191",
     "exception": false,
     "start_time": "2021-12-04T16:15:53.490636",
     "status": "completed"
    },
    "tags": []
   },
   "source": [
    "## Data loading\n",
    "\n",
    "To load the data, we start by loading the CSV file into a pandas DataFrame:"
   ]
  },
  {
   "cell_type": "code",
   "execution_count": 4,
   "id": "81f321f2",
   "metadata": {
    "execution": {
     "iopub.execute_input": "2021-12-04T16:15:53.673310Z",
     "iopub.status.busy": "2021-12-04T16:15:53.672836Z",
     "iopub.status.idle": "2021-12-04T16:15:57.962937Z",
     "shell.execute_reply": "2021-12-04T16:15:57.962435Z"
    },
    "papermill": {
     "duration": 4.353514,
     "end_time": "2021-12-04T16:15:57.963079",
     "exception": false,
     "start_time": "2021-12-04T16:15:53.609565",
     "status": "completed"
    },
    "tags": []
   },
   "outputs": [],
   "source": [
    "df_energy_hourly = pd.read_csv(f\"{DATASET_PATH}/energy_dataset.csv\", parse_dates=[\"time\"])"
   ]
  },
  {
   "cell_type": "markdown",
   "id": "bfbe1346",
   "metadata": {
    "papermill": {
     "duration": 0.05915,
     "end_time": "2021-12-04T16:15:58.083038",
     "exception": false,
     "start_time": "2021-12-04T16:15:58.023888",
     "status": "completed"
    },
    "tags": []
   },
   "source": [
    "Before we can load the data into Flash, there are a few preprocessing steps we need to take.\n",
    "The first preprocessing step is to set the `time` field as the index (formatted as a datetime).\n",
    "The second step is to resample the data to the desired frequency in case it is different from the desired observation\n",
    "frequency.\n",
    "Since we are performing autoregressive modelling, we can remove all columns except for `\"price actual\"`.\n",
    "\n",
    "For the third preprocessing step, we need to create a \"time_idx\" column.\n",
    "The \"time_idx\" column should contain integers corresponding to the observation index (e.g. in our case the difference\n",
    "between two \"time_idx\" values is the number of hours between the observations).\n",
    "To do this we convert the datetime to an index by taking the nanoseconds value and dividing by the number of\n",
    "nanoseconds in a single unit of our chosen frequency.\n",
    "We then subtract the minimum value so it starts at zero (although it would still work without this step).\n",
    "\n",
    "The Flash `TabularForecastingData` (which uses the `TimeSeriesDataSet` from PyTorch Forecasting internally) also\n",
    "supports loading data from multiple time series (e.g. you may have electricity data from multiple countries).\n",
    "To indicate that our data is all from the same series, we add a `constant` column with a constant value of zero.\n",
    "\n",
    "Here's the full preprocessing function:"
   ]
  },
  {
   "cell_type": "code",
   "execution_count": 5,
   "id": "c1a8175d",
   "metadata": {
    "execution": {
     "iopub.execute_input": "2021-12-04T16:15:58.214323Z",
     "iopub.status.busy": "2021-12-04T16:15:58.209311Z",
     "iopub.status.idle": "2021-12-04T16:15:58.288702Z",
     "shell.execute_reply": "2021-12-04T16:15:58.288232Z"
    },
    "papermill": {
     "duration": 0.145855,
     "end_time": "2021-12-04T16:15:58.288836",
     "exception": false,
     "start_time": "2021-12-04T16:15:58.142981",
     "status": "completed"
    },
    "tags": []
   },
   "outputs": [],
   "source": [
    "\n",
    "\n",
    "def preprocess(df: pd.DataFrame, frequency: str = \"1H\") -> pd.DataFrame:\n",
    "    df[\"time\"] = pd.to_datetime(df[\"time\"], utc=True, infer_datetime_format=True)\n",
    "    df.set_index(\"time\", inplace=True)\n",
    "\n",
    "    df = df.resample(frequency).mean()\n",
    "\n",
    "    df = df.filter([\"price actual\"])\n",
    "\n",
    "    df[\"time_idx\"] = (df.index.view(int) / pd.Timedelta(frequency).value).astype(int)\n",
    "    df[\"time_idx\"] -= df[\"time_idx\"].min()\n",
    "\n",
    "    df[\"constant\"] = 0\n",
    "\n",
    "    return df\n",
    "\n",
    "\n",
    "df_energy_hourly = preprocess(df_energy_hourly)"
   ]
  },
  {
   "cell_type": "markdown",
   "id": "30dabc2c",
   "metadata": {
    "papermill": {
     "duration": 0.059237,
     "end_time": "2021-12-04T16:15:58.408669",
     "exception": false,
     "start_time": "2021-12-04T16:15:58.349432",
     "status": "completed"
    },
    "tags": []
   },
   "source": [
    "## Creating the Flash DataModule\n",
    "\n",
    "Now, we can create a `TabularForecastingData`.\n",
    "The role of the `TabularForecastingData` is to split up our time series into windows which include a region to encode\n",
    "(of size `max_encoder_length`) and a region to predict (of size `max_prediction_length`) which will be used to compute\n",
    "the loss.\n",
    "The size of the prediction window should be chosen depending on the kinds of trends we would like our model to\n",
    "uncover.\n",
    "In our case, we are interested in how electricity prices change throughout the day, so a one day prediction window\n",
    "(`max_prediction_length = 24`) makes sense here.\n",
    "The size of the encoding window can vary, however, in the [N-BEATS paper](https://arxiv.org/abs/1905.10437) the\n",
    "authors suggest using an encoder length of between two and ten times the prediction length.\n",
    "We therefore choose two days (`max_encoder_length = 48`) as the encoder length."
   ]
  },
  {
   "cell_type": "code",
   "execution_count": 6,
   "id": "a0dc7005",
   "metadata": {
    "execution": {
     "iopub.execute_input": "2021-12-04T16:15:58.532740Z",
     "iopub.status.busy": "2021-12-04T16:15:58.532264Z",
     "iopub.status.idle": "2021-12-04T16:15:58.730009Z",
     "shell.execute_reply": "2021-12-04T16:15:58.729497Z"
    },
    "papermill": {
     "duration": 0.262268,
     "end_time": "2021-12-04T16:15:58.730148",
     "exception": false,
     "start_time": "2021-12-04T16:15:58.467880",
     "status": "completed"
    },
    "tags": []
   },
   "outputs": [],
   "source": [
    "max_prediction_length = 24\n",
    "max_encoder_length = 24 * 2\n",
    "\n",
    "training_cutoff = df_energy_hourly[\"time_idx\"].max() - max_prediction_length\n",
    "\n",
    "datamodule = TabularForecastingData.from_data_frame(\n",
    "    time_idx=\"time_idx\",\n",
    "    target=\"price actual\",\n",
    "    group_ids=[\"constant\"],\n",
    "    max_encoder_length=max_encoder_length,\n",
    "    max_prediction_length=max_prediction_length,\n",
    "    time_varying_unknown_reals=[\"price actual\"],\n",
    "    train_data_frame=df_energy_hourly[df_energy_hourly[\"time_idx\"] <= training_cutoff],\n",
    "    val_data_frame=df_energy_hourly,\n",
    "    batch_size=256,\n",
    ")"
   ]
  },
  {
   "cell_type": "markdown",
   "id": "1db8b8d6",
   "metadata": {
    "papermill": {
     "duration": 0.060126,
     "end_time": "2021-12-04T16:15:58.850602",
     "exception": false,
     "start_time": "2021-12-04T16:15:58.790476",
     "status": "completed"
    },
    "tags": []
   },
   "source": [
    "## Creating the Flash Task\n",
    "\n",
    "Now, we're ready to create a `TabularForecaster`.\n",
    "The N-BEATS model has two primary hyper-parameters:`\"widths\"`, and `\"backcast_loss_ratio\"`.\n",
    "In the [PyTorch Forecasting Documentation](https://pytorch-forecasting.readthedocs.io/en/latest/api/pytorch_forecasting.models.nbeats.NBeats.html),\n",
    "the authors recommend using `\"widths\"` of `[32, 512]`.\n",
    "In order to prevent overfitting with smaller datasets, a good rule of thumb is to limit the number of parameters of\n",
    "your model.\n",
    "For this reason, we use `\"widths\"` of `[16, 256]`.\n",
    "\n",
    "To understand the `\"backcast_loss_ratio\"`, let's take a look at this diagram of the model taken from\n",
    "[the arXiv paper](https://arxiv.org/abs/1905.10437):\n",
    "\n",
    "![N-BEATS diagram](data:image/png;base64,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)\n",
    "\n",
    "Each 'block' within the N-BEATS architecture includes a forecast output and a backcast which can each yield their own\n",
    "loss.\n",
    "The `\"backcast_loss_ratio\"` is the ratio of the backcast loss to the forecast loss.\n",
    "A value of `1.0` means that the loss function is simply the sum of the forecast and backcast losses."
   ]
  },
  {
   "cell_type": "code",
   "execution_count": 7,
   "id": "9bf0098f",
   "metadata": {
    "execution": {
     "iopub.execute_input": "2021-12-04T16:15:58.992700Z",
     "iopub.status.busy": "2021-12-04T16:15:58.989467Z",
     "iopub.status.idle": "2021-12-04T16:15:59.019036Z",
     "shell.execute_reply": "2021-12-04T16:15:59.018605Z"
    },
    "papermill": {
     "duration": 0.108205,
     "end_time": "2021-12-04T16:15:59.019163",
     "exception": false,
     "start_time": "2021-12-04T16:15:58.910958",
     "status": "completed"
    },
    "tags": []
   },
   "outputs": [
    {
     "name": "stderr",
     "output_type": "stream",
     "text": [
      "/usr/local/lib/python3.9/dist-packages/numpy/lib/nanfunctions.py:1119: RuntimeWarning: All-NaN slice encountered\n",
      "  r, k = function_base._ureduce(a, func=_nanmedian, axis=axis, out=out,\n",
      "Using 'n_beats' provided by jdb78/PyTorch-Forecasting (https://github.com/jdb78/pytorch-forecasting).\n"
     ]
    }
   ],
   "source": [
    "model = TabularForecaster(\n",
    "    datamodule.parameters, backbone=\"n_beats\", backbone_kwargs={\"widths\": [16, 256], \"backcast_loss_ratio\": 1.0}\n",
    ")"
   ]
  },
  {
   "cell_type": "markdown",
   "id": "e1f2d416",
   "metadata": {
    "papermill": {
     "duration": 0.064421,
     "end_time": "2021-12-04T16:15:59.144284",
     "exception": false,
     "start_time": "2021-12-04T16:15:59.079863",
     "status": "completed"
    },
    "tags": []
   },
   "source": [
    "## Finding the learning rate\n",
    "\n",
    "Tabular models can be particularly sensitive to the choice of learning rate.\n",
    "Helpfully, PyTorch Lightning provides a built-in learning rate finder that suggests a suitable learning rate\n",
    "automatically.\n",
    "To use it, we first create our Trainer.\n",
    "We apply gradient clipping (a common technique for tabular tasks) with ``gradient_clip_val=0.01`` in order to help\n",
    "prevent our model from over-fitting.\n",
    "Here's how to find the learning rate:"
   ]
  },
  {
   "cell_type": "code",
   "execution_count": 8,
   "id": "f41c4204",
   "metadata": {
    "execution": {
     "iopub.execute_input": "2021-12-04T16:15:59.470977Z",
     "iopub.status.busy": "2021-12-04T16:15:59.470429Z",
     "iopub.status.idle": "2021-12-04T16:16:26.182343Z",
     "shell.execute_reply": "2021-12-04T16:16:26.182764Z"
    },
    "papermill": {
     "duration": 26.977947,
     "end_time": "2021-12-04T16:16:26.182932",
     "exception": false,
     "start_time": "2021-12-04T16:15:59.204985",
     "status": "completed"
    },
    "tags": []
   },
   "outputs": [
    {
     "name": "stderr",
     "output_type": "stream",
     "text": [
      "GPU available: True, used: True\n"
     ]
    },
    {
     "name": "stderr",
     "output_type": "stream",
     "text": [
      "TPU available: False, using: 0 TPU cores\n"
     ]
    },
    {
     "name": "stderr",
     "output_type": "stream",
     "text": [
      "IPU available: False, using: 0 IPUs\n"
     ]
    },
    {
     "name": "stderr",
     "output_type": "stream",
     "text": [
      "/home/AzDevOps_azpcontainer/.local/lib/python3.9/site-packages/pytorch_lightning/trainer/configuration_validator.py:90: LightningDeprecationWarning: Method `on_train_dataloader` is deprecated in v1.5.0 and will be removed in v1.7.0. Please use `train_dataloader()` directly.\n",
      "  rank_zero_deprecation(\n",
      "/home/AzDevOps_azpcontainer/.local/lib/python3.9/site-packages/pytorch_lightning/trainer/configuration_validator.py:125: LightningDeprecationWarning: Method `on_val_dataloader` is deprecated in v1.5.0 and will be removed in v1.7.0. Please use `val_dataloader()` directly.\n",
      "  rank_zero_deprecation(\n",
      "LOCAL_RANK: 0 - CUDA_VISIBLE_DEVICES: [0,1]\n"
     ]
    },
    {
     "name": "stderr",
     "output_type": "stream",
     "text": [
      "/home/AzDevOps_azpcontainer/.local/lib/python3.9/site-packages/pytorch_lightning/trainer/data_loading.py:111: UserWarning: The dataloader, val_dataloader 0, does not have many workers which may be a bottleneck. Consider increasing the value of the `num_workers` argument` (try 12 which is the number of cpus on this machine) in the `DataLoader` init to improve performance.\n",
      "  rank_zero_warn(\n",
      "/home/AzDevOps_azpcontainer/.local/lib/python3.9/site-packages/pytorch_lightning/trainer/data_loading.py:111: UserWarning: The dataloader, train_dataloader, does not have many workers which may be a bottleneck. Consider increasing the value of the `num_workers` argument` (try 12 which is the number of cpus on this machine) in the `DataLoader` init to improve performance.\n",
      "  rank_zero_warn(\n"
     ]
    },
    {
     "data": {
      "application/vnd.jupyter.widget-view+json": {
       "model_id": "3ee6152105534181b7115c38185c49d2",
       "version_major": 2,
       "version_minor": 0
      },
      "text/plain": [
       "Finding best initial lr:   0%|          | 0/100 [00:00<?, ?it/s]"
      ]
     },
     "metadata": {},
     "output_type": "display_data"
    },
    {
     "name": "stderr",
     "output_type": "stream",
     "text": [
      "/home/AzDevOps_azpcontainer/.local/lib/python3.9/site-packages/pytorch_lightning/utilities/data.py:59: UserWarning: Trying to infer the `batch_size` from an ambiguous collection. The batch size we found is 256. To avoid any miscalculations, use `self.log(..., batch_size=batch_size)`.\n",
      "  warning_cache.warn(\n"
     ]
    },
    {
     "name": "stderr",
     "output_type": "stream",
     "text": [
      "LR finder stopped early after 86 steps due to diverging loss.\n"
     ]
    },
    {
     "name": "stderr",
     "output_type": "stream",
     "text": [
      "Restoring states from the checkpoint path at /__w/1/s/lr_find_temp_model_a0d9ecc8-cd61-4c27-9ce1-3fe44c1f51c6.ckpt\n"
     ]
    },
    {
     "name": "stdout",
     "output_type": "stream",
     "text": [
      "Suggested learning rate: 0.0007079457843841378\n"
     ]
    },
    {
     "data": {
      "image/png": "[encoded data removed]",
      "text/plain": [
       "<Figure size 432x288 with 1 Axes>"
      ]
     },
     "metadata": {
      "needs_background": "light"
     },
     "output_type": "display_data"
    }
   ],
   "source": [
    "trainer = flash.Trainer(\n",
    "    max_epochs=3,\n",
    "    gpus=int(torch.cuda.is_available()),\n",
    "    gradient_clip_val=0.01,\n",
    ")\n",
    "\n",
    "res = trainer.tuner.lr_find(model, datamodule=datamodule, min_lr=1e-5)\n",
    "print(f\"Suggested learning rate: {res.suggestion()}\")\n",
    "res.plot(show=True, suggest=True).show()"
   ]
  },
  {
   "cell_type": "markdown",
   "id": "30ccc940",
   "metadata": {
    "papermill": {
     "duration": 0.071097,
     "end_time": "2021-12-04T16:16:26.324941",
     "exception": false,
     "start_time": "2021-12-04T16:16:26.253844",
     "status": "completed"
    },
    "tags": []
   },
   "source": [
    "Once the suggest learning rate has been found, we can update our model with it:"
   ]
  },
  {
   "cell_type": "code",
   "execution_count": 9,
   "id": "039ff776",
   "metadata": {
    "execution": {
     "iopub.execute_input": "2021-12-04T16:16:26.470030Z",
     "iopub.status.busy": "2021-12-04T16:16:26.469558Z",
     "iopub.status.idle": "2021-12-04T16:16:26.471229Z",
     "shell.execute_reply": "2021-12-04T16:16:26.471608Z"
    },
    "papermill": {
     "duration": 0.076558,
     "end_time": "2021-12-04T16:16:26.471736",
     "exception": false,
     "start_time": "2021-12-04T16:16:26.395178",
     "status": "completed"
    },
    "tags": []
   },
   "outputs": [],
   "source": [
    "model.learning_rate = res.suggestion()"
   ]
  },
  {
   "cell_type": "markdown",
   "id": "ba55f1ea",
   "metadata": {
    "papermill": {
     "duration": 0.069776,
     "end_time": "2021-12-04T16:16:26.612241",
     "exception": false,
     "start_time": "2021-12-04T16:16:26.542465",
     "status": "completed"
    },
    "tags": []
   },
   "source": [
    "## Training the model\n",
    "Now all we have to do is train the model!"
   ]
  },
  {
   "cell_type": "code",
   "execution_count": 10,
   "id": "4b168b74",
   "metadata": {
    "execution": {
     "iopub.execute_input": "2021-12-04T16:16:26.756750Z",
     "iopub.status.busy": "2021-12-04T16:16:26.756286Z",
     "iopub.status.idle": "2021-12-04T16:18:13.692832Z",
     "shell.execute_reply": "2021-12-04T16:18:13.692403Z"
    },
    "papermill": {
     "duration": 107.011039,
     "end_time": "2021-12-04T16:18:13.692965",
     "exception": false,
     "start_time": "2021-12-04T16:16:26.681926",
     "status": "completed"
    },
    "tags": []
   },
   "outputs": [
    {
     "name": "stderr",
     "output_type": "stream",
     "text": [
      "/home/AzDevOps_azpcontainer/.local/lib/python3.9/site-packages/pytorch_lightning/core/datamodule.py:469: LightningDeprecationWarning: DataModule.setup has already been called, so it will not be called again. In v1.6 this behavior will change to always call DataModule.setup.\n",
      "  rank_zero_deprecation(\n",
      "LOCAL_RANK: 0 - CUDA_VISIBLE_DEVICES: [0,1]\n"
     ]
    },
    {
     "name": "stderr",
     "output_type": "stream",
     "text": [
      "\n",
      "  | Name          | Type                      | Params\n",
      "------------------------------------------------------------\n",
      "0 | train_metrics | ModuleDict                | 0     \n",
      "1 | val_metrics   | ModuleDict                | 0     \n",
      "2 | test_metrics  | ModuleDict                | 0     \n",
      "3 | adapter       | PyTorchForecastingAdapter | 454 K \n",
      "------------------------------------------------------------\n",
      "454 K     Trainable params\n",
      "0         Non-trainable params\n",
      "454 K     Total params\n",
      "1.820     Total estimated model params size (MB)\n"
     ]
    },
    {
     "data": {
      "application/vnd.jupyter.widget-view+json": {
       "model_id": "9fa1604bf17441e38095d32cb8917200",
       "version_major": 2,
       "version_minor": 0
      },
      "text/plain": [
       "Validation sanity check: 0it [00:00, ?it/s]"
      ]
     },
     "metadata": {},
     "output_type": "display_data"
    },
    {
     "name": "stderr",
     "output_type": "stream",
     "text": [
      "/home/AzDevOps_azpcontainer/.local/lib/python3.9/site-packages/pytorch_lightning/trainer/data_loading.py:111: UserWarning: The dataloader, val_dataloader 0, does not have many workers which may be a bottleneck. Consider increasing the value of the `num_workers` argument` (try 12 which is the number of cpus on this machine) in the `DataLoader` init to improve performance.\n",
      "  rank_zero_warn(\n",
      "/home/AzDevOps_azpcontainer/.local/lib/python3.9/site-packages/pytorch_lightning/trainer/data_loading.py:111: UserWarning: The dataloader, train_dataloader, does not have many workers which may be a bottleneck. Consider increasing the value of the `num_workers` argument` (try 12 which is the number of cpus on this machine) in the `DataLoader` init to improve performance.\n",
      "  rank_zero_warn(\n"
     ]
    },
    {
     "data": {
      "application/vnd.jupyter.widget-view+json": {
       "model_id": "d500965a48e548a085dfb7ac5abcbd21",
       "version_major": 2,
       "version_minor": 0
      },
      "text/plain": [
       "Training: 0it [00:00, ?it/s]"
      ]
     },
     "metadata": {},
     "output_type": "display_data"
    },
    {
     "data": {
      "application/vnd.jupyter.widget-view+json": {
       "model_id": "2a05667d318d4219823623ec28d98d26",
       "version_major": 2,
       "version_minor": 0
      },
      "text/plain": [
       "Validating: 0it [00:00, ?it/s]"
      ]
     },
     "metadata": {},
     "output_type": "display_data"
    },
    {
     "data": {
      "application/vnd.jupyter.widget-view+json": {
       "model_id": "6f80eebe91f54664b74b4c28794329dd",
       "version_major": 2,
       "version_minor": 0
      },
      "text/plain": [
       "Validating: 0it [00:00, ?it/s]"
      ]
     },
     "metadata": {},
     "output_type": "display_data"
    },
    {
     "data": {
      "application/vnd.jupyter.widget-view+json": {
       "model_id": "0930d676d8ec4ffab8c3db483cfc9e9c",
       "version_major": 2,
       "version_minor": 0
      },
      "text/plain": [
       "Validating: 0it [00:00, ?it/s]"
      ]
     },
     "metadata": {},
     "output_type": "display_data"
    },
    {
     "name": "stderr",
     "output_type": "stream",
     "text": [
      "/home/AzDevOps_azpcontainer/.local/lib/python3.9/site-packages/pytorch_lightning/core/datamodule.py:469: LightningDeprecationWarning: DataModule.teardown has already been called, so it will not be called again. In v1.6 this behavior will change to always call DataModule.teardown.\n",
      "  rank_zero_deprecation(\n"
     ]
    }
   ],
   "source": [
    "trainer.fit(model, datamodule=datamodule)"
   ]
  },
  {
   "cell_type": "markdown",
   "id": "25a6067b",
   "metadata": {
    "papermill": {
     "duration": 0.078885,
     "end_time": "2021-12-04T16:18:13.851315",
     "exception": false,
     "start_time": "2021-12-04T16:18:13.772430",
     "status": "completed"
    },
    "tags": []
   },
   "source": [
    "## Plot the interpretation\n",
    "\n",
    "An important feature of the N-BEATS model is that it can be configured to produce an interpretable prediction that is\n",
    "split into both a low frequency (trend) component and a high frequency (seasonality) component.\n",
    "For hourly observations, we might expect the trend component to show us how electricity prices are changing from one\n",
    "day to the next (for example, whether prices were generally higher or lower than yesterday).\n",
    "In contrast, the seasonality component would be expected to show us the general pattern in prices through the day\n",
    "(for example, if there is typically a peak in price around lunch time or a drop at night).\n",
    "\n",
    "It is often useful to visualize this decomposition and the `TabularForecaster` makes it simple.\n",
    "First, we load the best model from our training run and generate some predictions.\n",
    "Next, we convert the predictions to the format expected by PyTorch Forecasting using the `convert_predictions` utility\n",
    "function.\n",
    "Finally, we plot the interpretation using the `pytorch_forecasting_model` attribute.\n",
    "Here's the full function:"
   ]
  },
  {
   "cell_type": "code",
   "execution_count": 11,
   "id": "18458292",
   "metadata": {
    "execution": {
     "iopub.execute_input": "2021-12-04T16:18:14.013584Z",
     "iopub.status.busy": "2021-12-04T16:18:14.013086Z",
     "iopub.status.idle": "2021-12-04T16:18:14.015077Z",
     "shell.execute_reply": "2021-12-04T16:18:14.014593Z"
    },
    "papermill": {
     "duration": 0.085335,
     "end_time": "2021-12-04T16:18:14.015182",
     "exception": false,
     "start_time": "2021-12-04T16:18:13.929847",
     "status": "completed"
    },
    "tags": []
   },
   "outputs": [],
   "source": [
    "\n",
    "\n",
    "def plot_interpretation(model_path: str, predict_df: pd.DataFrame):\n",
    "    model = TabularForecaster.load_from_checkpoint(model_path)\n",
    "    predictions = model.predict(predict_df)\n",
    "    predictions, inputs = convert_predictions(predictions)\n",
    "    model.pytorch_forecasting_model.plot_interpretation(inputs, predictions, idx=0)\n",
    "    plt.show()"
   ]
  },
  {
   "cell_type": "markdown",
   "id": "74dd8dbf",
   "metadata": {
    "papermill": {
     "duration": 0.081066,
     "end_time": "2021-12-04T16:18:14.175306",
     "exception": false,
     "start_time": "2021-12-04T16:18:14.094240",
     "status": "completed"
    },
    "tags": []
   },
   "source": [
    "And now we run the function to plot the trend and seasonality curves:"
   ]
  },
  {
   "cell_type": "code",
   "execution_count": 12,
   "id": "9a15663e",
   "metadata": {
    "execution": {
     "iopub.execute_input": "2021-12-04T16:18:14.336823Z",
     "iopub.status.busy": "2021-12-04T16:18:14.336352Z",
     "iopub.status.idle": "2021-12-04T16:18:14.735416Z",
     "shell.execute_reply": "2021-12-04T16:18:14.735811Z"
    },
    "papermill": {
     "duration": 0.482009,
     "end_time": "2021-12-04T16:18:14.735984",
     "exception": false,
     "start_time": "2021-12-04T16:18:14.253975",
     "status": "completed"
    },
    "tags": []
   },
   "outputs": [
    {
     "name": "stderr",
     "output_type": "stream",
     "text": [
      "/usr/local/lib/python3.9/dist-packages/numpy/lib/nanfunctions.py:1119: RuntimeWarning: All-NaN slice encountered\n",
      "  r, k = function_base._ureduce(a, func=_nanmedian, axis=axis, out=out,\n",
      "Using 'n_beats' provided by jdb78/PyTorch-Forecasting (https://github.com/jdb78/pytorch-forecasting).\n"
     ]
    },
    {
     "data": {
      "image/png": "[encoded data removed]",
      "text/plain": [
       "<Figure size 432x576 with 2 Axes>"
      ]
     },
     "metadata": {
      "needs_background": "light"
     },
     "output_type": "display_data"
    }
   ],
   "source": [
    "plot_interpretation(trainer.checkpoint_callback.best_model_path, df_energy_hourly)"
   ]
  },
  {
   "cell_type": "markdown",
   "id": "c2cc0668",
   "metadata": {
    "papermill": {
     "duration": 0.081972,
     "end_time": "2021-12-04T16:18:14.901114",
     "exception": false,
     "start_time": "2021-12-04T16:18:14.819142",
     "status": "completed"
    },
    "tags": []
   },
   "source": [
    "It worked! The plot shows that the `TabularForecaster` does a reasonable job of modelling the time series and also\n",
    "breaks it down into a trend component and a seasonality component (in this case showing daily fluctuations in\n",
    "electricity prices).\n",
    "\n",
    "## Bonus: Weekly trends\n",
    "\n",
    "The type of seasonality that the model learns to detect is dictated by the frequency of observations and the length of\n",
    "the encoding / prediction window.\n",
    "We might imagine that our pipeline could be changed to instead uncover weekly trends if we resample daily\n",
    "observations from our data instead of hourly.\n",
    "\n",
    "We can use our preprocessing function to do this.\n",
    "First, we load the data as before then preprocess it (this time setting `frequency = \"1D\"`)."
   ]
  },
  {
   "cell_type": "code",
   "execution_count": 13,
   "id": "e3a47906",
   "metadata": {
    "execution": {
     "iopub.execute_input": "2021-12-04T16:18:15.069484Z",
     "iopub.status.busy": "2021-12-04T16:18:15.069013Z",
     "iopub.status.idle": "2021-12-04T16:18:19.360137Z",
     "shell.execute_reply": "2021-12-04T16:18:19.359651Z"
    },
    "papermill": {
     "duration": 4.377311,
     "end_time": "2021-12-04T16:18:19.360278",
     "exception": false,
     "start_time": "2021-12-04T16:18:14.982967",
     "status": "completed"
    },
    "tags": []
   },
   "outputs": [],
   "source": [
    "df_energy_daily = pd.read_csv(f\"{DATASET_PATH}/energy_dataset.csv\", parse_dates=[\"time\"])\n",
    "df_energy_daily = preprocess(df_energy_daily, frequency=\"1D\")"
   ]
  },
  {
   "cell_type": "markdown",
   "id": "85686141",
   "metadata": {
    "papermill": {
     "duration": 0.082432,
     "end_time": "2021-12-04T16:18:19.525522",
     "exception": false,
     "start_time": "2021-12-04T16:18:19.443090",
     "status": "completed"
    },
    "tags": []
   },
   "source": [
    "Now let's create our `TabularForecastingData` as before, this time with a four week encoding window and a one week\n",
    "prediction window."
   ]
  },
  {
   "cell_type": "code",
   "execution_count": 14,
   "id": "a7b56f78",
   "metadata": {
    "execution": {
     "iopub.execute_input": "2021-12-04T16:18:19.697329Z",
     "iopub.status.busy": "2021-12-04T16:18:19.696856Z",
     "iopub.status.idle": "2021-12-04T16:18:19.776806Z",
     "shell.execute_reply": "2021-12-04T16:18:19.776385Z"
    },
    "papermill": {
     "duration": 0.169177,
     "end_time": "2021-12-04T16:18:19.776935",
     "exception": false,
     "start_time": "2021-12-04T16:18:19.607758",
     "status": "completed"
    },
    "tags": []
   },
   "outputs": [],
   "source": [
    "max_prediction_length = 1 * 7\n",
    "max_encoder_length = 4 * 7\n",
    "\n",
    "training_cutoff = df_energy_daily[\"time_idx\"].max() - max_prediction_length\n",
    "\n",
    "datamodule = TabularForecastingData.from_data_frame(\n",
    "    time_idx=\"time_idx\",\n",
    "    target=\"price actual\",\n",
    "    group_ids=[\"constant\"],\n",
    "    max_encoder_length=max_encoder_length,\n",
    "    max_prediction_length=max_prediction_length,\n",
    "    time_varying_unknown_reals=[\"price actual\"],\n",
    "    train_data_frame=df_energy_daily[df_energy_daily[\"time_idx\"] <= training_cutoff],\n",
    "    val_data_frame=df_energy_daily,\n",
    "    batch_size=256,\n",
    ")"
   ]
  },
  {
   "cell_type": "markdown",
   "id": "24b356a7",
   "metadata": {
    "papermill": {
     "duration": 0.082516,
     "end_time": "2021-12-04T16:18:19.942766",
     "exception": false,
     "start_time": "2021-12-04T16:18:19.860250",
     "status": "completed"
    },
    "tags": []
   },
   "source": [
    "Now it's time to create a new model and trainer.\n",
    "We run for 24 times the number of epochs this time as we now have around 1/24th of the number of observations.\n",
    "This time, instead of using the learning rate finder we just set the learning rate manually:"
   ]
  },
  {
   "cell_type": "code",
   "execution_count": 15,
   "id": "286b5cb0",
   "metadata": {
    "execution": {
     "iopub.execute_input": "2021-12-04T16:18:20.136431Z",
     "iopub.status.busy": "2021-12-04T16:18:20.133167Z",
     "iopub.status.idle": "2021-12-04T16:18:20.160206Z",
     "shell.execute_reply": "2021-12-04T16:18:20.160588Z"
    },
    "papermill": {
     "duration": 0.135767,
     "end_time": "2021-12-04T16:18:20.160748",
     "exception": false,
     "start_time": "2021-12-04T16:18:20.024981",
     "status": "completed"
    },
    "tags": []
   },
   "outputs": [
    {
     "name": "stderr",
     "output_type": "stream",
     "text": [
      "/usr/local/lib/python3.9/dist-packages/numpy/lib/nanfunctions.py:1119: RuntimeWarning: All-NaN slice encountered\n",
      "  r, k = function_base._ureduce(a, func=_nanmedian, axis=axis, out=out,\n",
      "Using 'n_beats' provided by jdb78/PyTorch-Forecasting (https://github.com/jdb78/pytorch-forecasting).\n"
     ]
    },
    {
     "name": "stderr",
     "output_type": "stream",
     "text": [
      "GPU available: True, used: True\n"
     ]
    },
    {
     "name": "stderr",
     "output_type": "stream",
     "text": [
      "TPU available: False, using: 0 TPU cores\n"
     ]
    },
    {
     "name": "stderr",
     "output_type": "stream",
     "text": [
      "IPU available: False, using: 0 IPUs\n"
     ]
    }
   ],
   "source": [
    "model = TabularForecaster(\n",
    "    datamodule.parameters,\n",
    "    backbone=\"n_beats\",\n",
    "    backbone_kwargs={\"widths\": [16, 256], \"backcast_loss_ratio\": 1.0},\n",
    "    learning_rate=5e-4,\n",
    ")\n",
    "\n",
    "trainer = flash.Trainer(\n",
    "    max_epochs=3 * 24,\n",
    "    check_val_every_n_epoch=24,\n",
    "    gpus=int(torch.cuda.is_available()),\n",
    "    gradient_clip_val=0.01,\n",
    ")"
   ]
  },
  {
   "cell_type": "markdown",
   "id": "5526c82d",
   "metadata": {
    "papermill": {
     "duration": 0.084674,
     "end_time": "2021-12-04T16:18:20.331719",
     "exception": false,
     "start_time": "2021-12-04T16:18:20.247045",
     "status": "completed"
    },
    "tags": []
   },
   "source": [
    "Finally, we train the new model:"
   ]
  },
  {
   "cell_type": "code",
   "execution_count": 16,
   "id": "1b5077e3",
   "metadata": {
    "execution": {
     "iopub.execute_input": "2021-12-04T16:18:20.506896Z",
     "iopub.status.busy": "2021-12-04T16:18:20.506415Z",
     "iopub.status.idle": "2021-12-04T16:19:55.268992Z",
     "shell.execute_reply": "2021-12-04T16:19:55.268561Z"
    },
    "papermill": {
     "duration": 94.852305,
     "end_time": "2021-12-04T16:19:55.269127",
     "exception": false,
     "start_time": "2021-12-04T16:18:20.416822",
     "status": "completed"
    },
    "tags": []
   },
   "outputs": [
    {
     "name": "stderr",
     "output_type": "stream",
     "text": [
      "/home/AzDevOps_azpcontainer/.local/lib/python3.9/site-packages/pytorch_lightning/trainer/configuration_validator.py:90: LightningDeprecationWarning: Method `on_train_dataloader` is deprecated in v1.5.0 and will be removed in v1.7.0. Please use `train_dataloader()` directly.\n",
      "  rank_zero_deprecation(\n",
      "/home/AzDevOps_azpcontainer/.local/lib/python3.9/site-packages/pytorch_lightning/trainer/configuration_validator.py:125: LightningDeprecationWarning: Method `on_val_dataloader` is deprecated in v1.5.0 and will be removed in v1.7.0. Please use `val_dataloader()` directly.\n",
      "  rank_zero_deprecation(\n",
      "LOCAL_RANK: 0 - CUDA_VISIBLE_DEVICES: [0,1]\n"
     ]
    },
    {
     "name": "stderr",
     "output_type": "stream",
     "text": [
      "\n",
      "  | Name          | Type                      | Params\n",
      "------------------------------------------------------------\n",
      "0 | train_metrics | ModuleDict                | 0     \n",
      "1 | val_metrics   | ModuleDict                | 0     \n",
      "2 | test_metrics  | ModuleDict                | 0     \n",
      "3 | adapter       | PyTorchForecastingAdapter | 425 K \n",
      "------------------------------------------------------------\n",
      "425 K     Trainable params\n",
      "0         Non-trainable params\n",
      "425 K     Total params\n",
      "1.702     Total estimated model params size (MB)\n"
     ]
    },
    {
     "data": {
      "application/vnd.jupyter.widget-view+json": {
       "model_id": "6fffe2a1887747948c9e73a8eb973cf6",
       "version_major": 2,
       "version_minor": 0
      },
      "text/plain": [
       "Validation sanity check: 0it [00:00, ?it/s]"
      ]
     },
     "metadata": {},
     "output_type": "display_data"
    },
    {
     "name": "stderr",
     "output_type": "stream",
     "text": [
      "/home/AzDevOps_azpcontainer/.local/lib/python3.9/site-packages/pytorch_lightning/trainer/data_loading.py:111: UserWarning: The dataloader, val_dataloader 0, does not have many workers which may be a bottleneck. Consider increasing the value of the `num_workers` argument` (try 12 which is the number of cpus on this machine) in the `DataLoader` init to improve performance.\n",
      "  rank_zero_warn(\n",
      "/home/AzDevOps_azpcontainer/.local/lib/python3.9/site-packages/pytorch_lightning/trainer/data_loading.py:111: UserWarning: The dataloader, train_dataloader, does not have many workers which may be a bottleneck. Consider increasing the value of the `num_workers` argument` (try 12 which is the number of cpus on this machine) in the `DataLoader` init to improve performance.\n",
      "  rank_zero_warn(\n",
      "/home/AzDevOps_azpcontainer/.local/lib/python3.9/site-packages/pytorch_lightning/trainer/data_loading.py:407: UserWarning: The number of training samples (5) is smaller than the logging interval Trainer(log_every_n_steps=50). Set a lower value for log_every_n_steps if you want to see logs for the training epoch.\n",
      "  rank_zero_warn(\n"
     ]
    },
    {
     "data": {
      "application/vnd.jupyter.widget-view+json": {
       "model_id": "b9ac98307d2a4af1a465a60454de4061",
       "version_major": 2,
       "version_minor": 0
      },
      "text/plain": [
       "Training: 0it [00:00, ?it/s]"
      ]
     },
     "metadata": {},
     "output_type": "display_data"
    },
    {
     "data": {
      "application/vnd.jupyter.widget-view+json": {
       "model_id": "fe15529fbab94b9089e1f1482901999e",
       "version_major": 2,
       "version_minor": 0
      },
      "text/plain": [
       "Validating: 0it [00:00, ?it/s]"
      ]
     },
     "metadata": {},
     "output_type": "display_data"
    },
    {
     "data": {
      "application/vnd.jupyter.widget-view+json": {
       "model_id": "18214dccbe974dbbb31030be8174678d",
       "version_major": 2,
       "version_minor": 0
      },
      "text/plain": [
       "Validating: 0it [00:00, ?it/s]"
      ]
     },
     "metadata": {},
     "output_type": "display_data"
    },
    {
     "data": {
      "application/vnd.jupyter.widget-view+json": {
       "model_id": "7b0393e4b4914cc982b7cce2e7b8607f",
       "version_major": 2,
       "version_minor": 0
      },
      "text/plain": [
       "Validating: 0it [00:00, ?it/s]"
      ]
     },
     "metadata": {},
     "output_type": "display_data"
    }
   ],
   "source": [
    "trainer.fit(model, datamodule=datamodule)"
   ]
  },
  {
   "cell_type": "markdown",
   "id": "5ca15692",
   "metadata": {
    "papermill": {
     "duration": 0.094352,
     "end_time": "2021-12-04T16:19:55.458444",
     "exception": false,
     "start_time": "2021-12-04T16:19:55.364092",
     "status": "completed"
    },
    "tags": []
   },
   "source": [
    "Now let's look at what it learned:"
   ]
  },
  {
   "cell_type": "code",
   "execution_count": 17,
   "id": "e03734ee",
   "metadata": {
    "execution": {
     "iopub.execute_input": "2021-12-04T16:19:55.656362Z",
     "iopub.status.busy": "2021-12-04T16:19:55.655892Z",
     "iopub.status.idle": "2021-12-04T16:19:55.980625Z",
     "shell.execute_reply": "2021-12-04T16:19:55.981012Z"
    },
    "papermill": {
     "duration": 0.428377,
     "end_time": "2021-12-04T16:19:55.981179",
     "exception": false,
     "start_time": "2021-12-04T16:19:55.552802",
     "status": "completed"
    },
    "tags": []
   },
   "outputs": [
    {
     "name": "stderr",
     "output_type": "stream",
     "text": [
      "/usr/local/lib/python3.9/dist-packages/numpy/lib/nanfunctions.py:1119: RuntimeWarning: All-NaN slice encountered\n",
      "  r, k = function_base._ureduce(a, func=_nanmedian, axis=axis, out=out,\n",
      "Using 'n_beats' provided by jdb78/PyTorch-Forecasting (https://github.com/jdb78/pytorch-forecasting).\n"
     ]
    },
    {
     "data": {
      "image/png": "[encoded data removed]",
      "text/plain": [
       "<Figure size 432x576 with 2 Axes>"
      ]
     },
     "metadata": {
      "needs_background": "light"
     },
     "output_type": "display_data"
    }
   ],
   "source": [
    "plot_interpretation(trainer.checkpoint_callback.best_model_path, df_energy_daily)"
   ]
  },
  {
   "cell_type": "markdown",
   "id": "0460857d",
   "metadata": {
    "papermill": {
     "duration": 0.096852,
     "end_time": "2021-12-04T16:19:56.177823",
     "exception": false,
     "start_time": "2021-12-04T16:19:56.080971",
     "status": "completed"
    },
    "tags": []
   },
   "source": [
    "Success! We can now also see weekly trends / seasonality uncovered by our new model.\n",
    "\n",
    "## Closing thoughts and next steps!\n",
    "\n",
    "This tutorial has shown how Flash and PyTorch Forecasting can be used to train state-of-the-art auto-regressive\n",
    "forecasting models (such as N-BEATS).\n",
    "We've seen how we can influence the kinds of trends and patterns uncovered by the model by resampling the data and\n",
    "changing the hyper-parameters.\n",
    "\n",
    "There are plenty of ways you could take this tutorial further.\n",
    "For example, you could try a more complex model, such as the\n",
    "[temporal fusion transformer](https://pytorch-forecasting.readthedocs.io/en/latest/api/pytorch_forecasting.models.temporal_fusion_transformer.TemporalFusionTransformer.html),\n",
    "which can handle additional inputs (the kaggle data set we used also includes weather data).\n",
    "\n",
    "Alternatively, if you want to be a bit more adventurous, you could look at\n",
    "[some of the other problems that can solved with Lightning Flash](https://lightning-flash.readthedocs.io/en/stable/?badge=stable)."
   ]
  },
  {
   "cell_type": "markdown",
   "id": "b49fdd83",
   "metadata": {
    "papermill": {
     "duration": 0.096089,
     "end_time": "2021-12-04T16:19:56.370937",
     "exception": false,
     "start_time": "2021-12-04T16:19:56.274848",
     "status": "completed"
    },
    "tags": []
   },
   "source": [
    "## Congratulations - Time to Join the Community!\n",
    "\n",
    "Congratulations on completing this notebook tutorial! If you enjoyed this and would like to join the Lightning\n",
    "movement, you can do so in the following ways!\n",
    "\n",
    "### Star [Lightning](https://github.com/PyTorchLightning/pytorch-lightning) on GitHub\n",
    "The easiest way to help our community is just by starring the GitHub repos! This helps raise awareness of the cool\n",
    "tools we're building.\n",
    "\n",
    "### Join our [Slack](https://join.slack.com/t/pytorch-lightning/shared_invite/zt-pw5v393p-qRaDgEk24~EjiZNBpSQFgQ)!\n",
    "The best way to keep up to date on the latest advancements is to join our community! Make sure to introduce yourself\n",
    "and share your interests in `#general` channel\n",
    "\n",
    "\n",
    "### Contributions !\n",
    "The best way to contribute to our community is to become a code contributor! At any time you can go to\n",
    "[Lightning](https://github.com/PyTorchLightning/pytorch-lightning) or [Bolt](https://github.com/PyTorchLightning/lightning-bolts)\n",
    "GitHub Issues page and filter for \"good first issue\".\n",
    "\n",
    "* [Lightning good first issue](https://github.com/PyTorchLightning/pytorch-lightning/issues?q=is%3Aopen+is%3Aissue+label%3A%22good+first+issue%22)\n",
    "* [Bolt good first issue](https://github.com/PyTorchLightning/lightning-bolts/issues?q=is%3Aopen+is%3Aissue+label%3A%22good+first+issue%22)\n",
    "* You can also contribute your own notebooks with useful examples !\n",
    "\n",
    "### Great thanks from the entire Pytorch Lightning Team for your interest !\n",
    "\n",
    "[![Pytorch Lightning](data:image/png;base64,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){height=\"60px\" width=\"240px\"}](https://pytorchlightning.ai)"
   ]
  },
  {
   "cell_type": "raw",
   "id": "0c9ae5a0",
   "metadata": {
    "raw_mimetype": "text/restructuredtext"
   },
   "source": [
    ".. customcarditem::\n",
    "   :header: Electricity Price Forecasting with N-BEATS\n",
    "   :card_description: This tutorial covers using Lightning Flash and it's integration with PyTorch Forecasting to train an autoregressive model (N-BEATS) on hourly electricity pricing data. We show...\n",
    "   :tags: Tabular,Forecasting,GPU/TPU,Kaggle\n",
    "   :image: _static/images/flash_tutorials/electricity_forecasting.svg"
   ]
  }
 ],
 "metadata": {
  "jupytext": {
   "cell_metadata_filter": "id,colab_type,colab,-all",
   "formats": "ipynb,py:percent",
   "main_language": "python"
  },
  "language_info": {
   "codemirror_mode": {
    "name": "ipython",
    "version": 3
   },
   "file_extension": ".py",
   "mimetype": "text/x-python",
   "name": "python",
   "nbconvert_exporter": "python",
   "pygments_lexer": "ipython3",
   "version": "3.9.7"
  },
  "papermill": {
   "default_parameters": {},
   "duration": 253.664804,
   "end_time": "2021-12-04T16:19:59.466558",
   "environment_variables": {},
   "exception": null,
   "input_path": "flash_tutorials/electricity_forecasting/electricity_forecasting.ipynb",
   "output_path": ".notebooks/flash_tutorials/electricity_forecasting.ipynb",
   "parameters": {},
   "start_time": "2021-12-04T16:15:45.801754",
   "version": "2.3.3"
  },
  "widgets": {
   "application/vnd.jupyter.widget-state+json": {
    "state": {
     "03e389deda834e4f831261e89b94bbc6": {
      "model_module": "@jupyter-widgets/controls",
      "model_module_version": "1.5.0",
      "model_name": "HTMLModel",
      "state": {
       "_dom_classes": [],
       "_model_module": "@jupyter-widgets/controls",
       "_model_module_version": "1.5.0",
       "_model_name": "HTMLModel",
       "_view_count": null,
       "_view_module": "@jupyter-widgets/controls",
       "_view_module_version": "1.5.0",
       "_view_name": "HTMLView",
       "description": "",
       "description_tooltip": null,
       "layout": "IPY_MODEL_26fa900cf5eb4e028c2c2e80d606c399",
       "placeholder": "​",
       "style": "IPY_MODEL_21641876e6a54d3e8c2b4e86540839c2",
       "value": "Validation sanity check:   0%"
      }
     },
     "0404d747d30c4f37aa39fd439df314a6": {
      "model_module": "@jupyter-widgets/controls",
      "model_module_version": "1.5.0",
      "model_name": "ProgressStyleModel",
      "state": {
       "_model_module": "@jupyter-widgets/controls",
       "_model_module_version": "1.5.0",
       "_model_name": "ProgressStyleModel",
       "_view_count": null,
       "_view_module": "@jupyter-widgets/base",
       "_view_module_version": "1.2.0",
       "_view_name": "StyleView",
       "bar_color": null,
       "description_width": ""
      }
     },
     "04fce37215d748bcba538067cff7bab2": {
      "model_module": "@jupyter-widgets/controls",
      "model_module_version": "1.5.0",
      "model_name": "HTMLModel",
      "state": {
       "_dom_classes": [],
       "_model_module": "@jupyter-widgets/controls",
       "_model_module_version": "1.5.0",
       "_model_name": "HTMLModel",
       "_view_count": null,
       "_view_module": "@jupyter-widgets/controls",
       "_view_module_version": "1.5.0",
       "_view_name": "HTMLView",
       "description": "",
       "description_tooltip": null,
       "layout": "IPY_MODEL_6d08a4971c184afb9d50f9b2f54aaf8b",
       "placeholder": "​",
       "style": "IPY_MODEL_8b411ab121fe4efc82ca41c0544d7335",
       "value": "Epoch 2: 100%"
      }
     },
     "055feca678a04691ae5ff79a8d57c593": {
      "model_module": "@jupyter-widgets/controls",
      "model_module_version": "1.5.0",
      "model_name": "ProgressStyleModel",
      "state": {
       "_model_module": "@jupyter-widgets/controls",
       "_model_module_version": "1.5.0",
       "_model_name": "ProgressStyleModel",
       "_view_count": null,
       "_view_module": "@jupyter-widgets/base",
       "_view_module_version": "1.2.0",
       "_view_name": "StyleView",
       "bar_color": null,
       "description_width": ""
      }
     },
     "08b96054fa1e4016899c8b4f5b7152d1": {
      "model_module": "@jupyter-widgets/controls",
      "model_module_version": "1.5.0",
      "model_name": "FloatProgressModel",
      "state": {
       "_dom_classes": [],
       "_model_module": "@jupyter-widgets/controls",
       "_model_module_version": "1.5.0",
       "_model_name": "FloatProgressModel",
       "_view_count": null,
       "_view_module": "@jupyter-widgets/controls",
       "_view_module_version": "1.5.0",
       "_view_name": "ProgressView",
       "bar_style": "",
       "description": "",
       "description_tooltip": null,
       "layout": "IPY_MODEL_38882bd650ab4d0d8d4ba6fd5dbb645e",
       "max": 1.0,
       "min": 0.0,
       "orientation": "horizontal",
       "style": "IPY_MODEL_055feca678a04691ae5ff79a8d57c593",
       "value": 1.0
      }
     },
     "0930d676d8ec4ffab8c3db483cfc9e9c": {
      "model_module": "@jupyter-widgets/controls",
      "model_module_version": "1.5.0",
      "model_name": "HBoxModel",
      "state": {
       "_dom_classes": [],
       "_model_module": "@jupyter-widgets/controls",
       "_model_module_version": "1.5.0",
       "_model_name": "HBoxModel",
       "_view_count": null,
       "_view_module": "@jupyter-widgets/controls",
       "_view_module_version": "1.5.0",
       "_view_name": "HBoxView",
       "box_style": "",
       "children": [
        "IPY_MODEL_d9887670f79a410196bd65f688d9a45a",
        "IPY_MODEL_fffcbc0acca342c68c1b6089d7d6ab11",
        "IPY_MODEL_f823805e48b547c0aad22886f8b8ab4e"
       ],
       "layout": "IPY_MODEL_262c484026cc461680394cfbab422c84"
      }
     },
     "0da00aadb43546b789fcfd0e275d53b0": {
      "model_module": "@jupyter-widgets/controls",
      "model_module_version": "1.5.0",
      "model_name": "HTMLModel",
      "state": {
       "_dom_classes": [],
       "_model_module": "@jupyter-widgets/controls",
       "_model_module_version": "1.5.0",
       "_model_name": "HTMLModel",
       "_view_count": null,
       "_view_module": "@jupyter-widgets/controls",
       "_view_module_version": "1.5.0",
       "_view_name": "HTMLView",
       "description": "",
       "description_tooltip": null,
       "layout": "IPY_MODEL_a2036a28e3c64800bc897d7c00622e84",
       "placeholder": "​",
       "style": "IPY_MODEL_885a585870d5459d85a7927bc07edd10",
       "value": "Epoch 71: 100%"
      }
     },
     "0e237ba5c0aa4966a53e2ba6f91cca18": {
      "model_module": "@jupyter-widgets/controls",
      "model_module_version": "1.5.0",
      "model_name": "HTMLModel",
      "state": {
       "_dom_classes": [],
       "_model_module": "@jupyter-widgets/controls",
       "_model_module_version": "1.5.0",
       "_model_name": "HTMLModel",
       "_view_count": null,
       "_view_module": "@jupyter-widgets/controls",
       "_view_module_version": "1.5.0",
       "_view_name": "HTMLView",
       "description": "",
       "description_tooltip": null,
       "layout": "IPY_MODEL_e9cb9c27ede247b7a641b732fafa88b6",
       "placeholder": "​",
       "style": "IPY_MODEL_a5a426780235496c81f3bba9f1c69db7",
       "value": " 0/1 [00:00&lt;?, ?it/s]"
      }
     },
     "113d4d7ea3f445d28f6a29283b836b71": {
      "model_module": "@jupyter-widgets/base",
      "model_module_version": "1.2.0",
      "model_name": "LayoutModel",
      "state": {
       "_model_module": "@jupyter-widgets/base",
       "_model_module_version": "1.2.0",
       "_model_name": "LayoutModel",
       "_view_count": null,
       "_view_module": "@jupyter-widgets/base",
       "_view_module_version": "1.2.0",
       "_view_name": "LayoutView",
       "align_content": null,
       "align_items": null,
       "align_self": null,
       "border": null,
       "bottom": null,
       "display": "inline-flex",
       "flex": null,
       "flex_flow": "row wrap",
       "grid_area": null,
       "grid_auto_columns": null,
       "grid_auto_flow": null,
       "grid_auto_rows": null,
       "grid_column": null,
       "grid_gap": null,
       "grid_row": null,
       "grid_template_areas": null,
       "grid_template_columns": null,
       "grid_template_rows": null,
       "height": null,
       "justify_content": null,
       "justify_items": null,
       "left": null,
       "margin": null,
       "max_height": null,
       "max_width": null,
       "min_height": null,
       "min_width": null,
       "object_fit": null,
       "object_position": null,
       "order": null,
       "overflow": null,
       "overflow_x": null,
       "overflow_y": null,
       "padding": null,
       "right": null,
       "top": null,
       "visibility": null,
       "width": "100%"
      }
     },
     "170bd0a5f8394c809c989b00c5e44e39": {
      "model_module": "@jupyter-widgets/controls",
      "model_module_version": "1.5.0",
      "model_name": "HTMLModel",
      "state": {
       "_dom_classes": [],
       "_model_module": "@jupyter-widgets/controls",
       "_model_module_version": "1.5.0",
       "_model_name": "HTMLModel",
       "_view_count": null,
       "_view_module": "@jupyter-widgets/controls",
       "_view_module_version": "1.5.0",
       "_view_name": "HTMLView",
       "description": "",
       "description_tooltip": null,
       "layout": "IPY_MODEL_946d40e15286498db4007232ce72809e",
       "placeholder": "​",
       "style": "IPY_MODEL_bac592acff814a56b485b63e6e0d1b94",
       "value": "Validating:   0%"
      }
     },
     "18214dccbe974dbbb31030be8174678d": {
      "model_module": "@jupyter-widgets/controls",
      "model_module_version": "1.5.0",
      "model_name": "HBoxModel",
      "state": {
       "_dom_classes": [],
       "_model_module": "@jupyter-widgets/controls",
       "_model_module_version": "1.5.0",
       "_model_name": "HBoxModel",
       "_view_count": null,
       "_view_module": "@jupyter-widgets/controls",
       "_view_module_version": "1.5.0",
       "_view_name": "HBoxView",
       "box_style": "",
       "children": [
        "IPY_MODEL_191b3a9f62c0484eb67997da42e67ded",
        "IPY_MODEL_75a209b2779d43709eba04ba8a642f54",
        "IPY_MODEL_b7ac4c86a54c450c9b4420edd955c856"
       ],
       "layout": "IPY_MODEL_113d4d7ea3f445d28f6a29283b836b71"
      }
     },
     "191b3a9f62c0484eb67997da42e67ded": {
      "model_module": "@jupyter-widgets/controls",
      "model_module_version": "1.5.0",
      "model_name": "HTMLModel",
      "state": {
       "_dom_classes": [],
       "_model_module": "@jupyter-widgets/controls",
       "_model_module_version": "1.5.0",
       "_model_name": "HTMLModel",
       "_view_count": null,
       "_view_module": "@jupyter-widgets/controls",
       "_view_module_version": "1.5.0",
       "_view_name": "HTMLView",
       "description": "",
       "description_tooltip": null,
       "layout": "IPY_MODEL_9f6d3d4726da4e579b40fb6b94542404",
       "placeholder": "​",
       "style": "IPY_MODEL_916b3e24c8b3422086363dc0a32bf91b",
       "value": "Validating:   0%"
      }
     },
     "1bd56f79824b48f1af363f623230017d": {
      "model_module": "@jupyter-widgets/base",
      "model_module_version": "1.2.0",
      "model_name": "LayoutModel",
      "state": {
       "_model_module": "@jupyter-widgets/base",
       "_model_module_version": "1.2.0",
       "_model_name": "LayoutModel",
       "_view_count": null,
       "_view_module": "@jupyter-widgets/base",
       "_view_module_version": "1.2.0",
       "_view_name": "LayoutView",
       "align_content": null,
       "align_items": null,
       "align_self": null,
       "border": null,
       "bottom": null,
       "display": null,
       "flex": "2",
       "flex_flow": null,
       "grid_area": null,
       "grid_auto_columns": null,
       "grid_auto_flow": null,
       "grid_auto_rows": null,
       "grid_column": null,
       "grid_gap": null,
       "grid_row": null,
       "grid_template_areas": null,
       "grid_template_columns": null,
       "grid_template_rows": null,
       "height": null,
       "justify_content": null,
       "justify_items": null,
       "left": null,
       "margin": null,
       "max_height": null,
       "max_width": null,
       "min_height": null,
       "min_width": null,
       "object_fit": null,
       "object_position": null,
       "order": null,
       "overflow": null,
       "overflow_x": null,
       "overflow_y": null,
       "padding": null,
       "right": null,
       "top": null,
       "visibility": null,
       "width": null
      }
     },
     "1c3143d6b0254ba8adb462f3793eff17": {
      "model_module": "@jupyter-widgets/base",
      "model_module_version": "1.2.0",
      "model_name": "LayoutModel",
      "state": {
       "_model_module": "@jupyter-widgets/base",
       "_model_module_version": "1.2.0",
       "_model_name": "LayoutModel",
       "_view_count": null,
       "_view_module": "@jupyter-widgets/base",
       "_view_module_version": "1.2.0",
       "_view_name": "LayoutView",
       "align_content": null,
       "align_items": null,
       "align_self": null,
       "border": null,
       "bottom": null,
       "display": null,
       "flex": "2",
       "flex_flow": null,
       "grid_area": null,
       "grid_auto_columns": null,
       "grid_auto_flow": null,
       "grid_auto_rows": null,
       "grid_column": null,
       "grid_gap": null,
       "grid_row": null,
       "grid_template_areas": null,
       "grid_template_columns": null,
       "grid_template_rows": null,
       "height": null,
       "justify_content": null,
       "justify_items": null,
       "left": null,
       "margin": null,
       "max_height": null,
       "max_width": null,
       "min_height": null,
       "min_width": null,
       "object_fit": null,
       "object_position": null,
       "order": null,
       "overflow": null,
       "overflow_x": null,
       "overflow_y": null,
       "padding": null,
       "right": null,
       "top": null,
       "visibility": null,
       "width": null
      }
     },
     "1c5492faa654440cbb87563af86b60ac": {
      "model_module": "@jupyter-widgets/controls",
      "model_module_version": "1.5.0",
      "model_name": "DescriptionStyleModel",
      "state": {
       "_model_module": "@jupyter-widgets/controls",
       "_model_module_version": "1.5.0",
       "_model_name": "DescriptionStyleModel",
       "_view_count": null,
       "_view_module": "@jupyter-widgets/base",
       "_view_module_version": "1.2.0",
       "_view_name": "StyleView",
       "description_width": ""
      }
     },
     "209b0ac90cbd4ccf97c18d44a2c9d908": {
      "model_module": "@jupyter-widgets/controls",
      "model_module_version": "1.5.0",
      "model_name": "FloatProgressModel",
      "state": {
       "_dom_classes": [],
       "_model_module": "@jupyter-widgets/controls",
       "_model_module_version": "1.5.0",
       "_model_name": "FloatProgressModel",
       "_view_count": null,
       "_view_module": "@jupyter-widgets/controls",
       "_view_module_version": "1.5.0",
       "_view_name": "ProgressView",
       "bar_style": "success",
       "description": "",
       "description_tooltip": null,
       "layout": "IPY_MODEL_6cea812514ea4839b3e12f394d614892",
       "max": 137.0,
       "min": 0.0,
       "orientation": "horizontal",
       "style": "IPY_MODEL_e55839ad9dc54e0bb1f87c88dd817ecd",
       "value": 137.0
      }
     },
     "21641876e6a54d3e8c2b4e86540839c2": {
      "model_module": "@jupyter-widgets/controls",
      "model_module_version": "1.5.0",
      "model_name": "DescriptionStyleModel",
      "state": {
       "_model_module": "@jupyter-widgets/controls",
       "_model_module_version": "1.5.0",
       "_model_name": "DescriptionStyleModel",
       "_view_count": null,
       "_view_module": "@jupyter-widgets/base",
       "_view_module_version": "1.2.0",
       "_view_name": "StyleView",
       "description_width": ""
      }
     },
     "2191a59b886f4b2ca1953cb1c0b6e69b": {
      "model_module": "@jupyter-widgets/controls",
      "model_module_version": "1.5.0",
      "model_name": "FloatProgressModel",
      "state": {
       "_dom_classes": [],
       "_model_module": "@jupyter-widgets/controls",
       "_model_module_version": "1.5.0",
       "_model_name": "FloatProgressModel",
       "_view_count": null,
       "_view_module": "@jupyter-widgets/controls",
       "_view_module_version": "1.5.0",
       "_view_name": "ProgressView",
       "bar_style": "danger",
       "description": "",
       "description_tooltip": null,
       "layout": "IPY_MODEL_695ee3d53a6d4e42b7a5ea981c06f4b1",
       "max": 100.0,
       "min": 0.0,
       "orientation": "horizontal",
       "style": "IPY_MODEL_ab11b251b3704f448ac6b5ed709dfef5",
       "value": 86.0
      }
     },
     "262c484026cc461680394cfbab422c84": {
      "model_module": "@jupyter-widgets/base",
      "model_module_version": "1.2.0",
      "model_name": "LayoutModel",
      "state": {
       "_model_module": "@jupyter-widgets/base",
       "_model_module_version": "1.2.0",
       "_model_name": "LayoutModel",
       "_view_count": null,
       "_view_module": "@jupyter-widgets/base",
       "_view_module_version": "1.2.0",
       "_view_name": "LayoutView",
       "align_content": null,
       "align_items": null,
       "align_self": null,
       "border": null,
       "bottom": null,
       "display": "inline-flex",
       "flex": null,
       "flex_flow": "row wrap",
       "grid_area": null,
       "grid_auto_columns": null,
       "grid_auto_flow": null,
       "grid_auto_rows": null,
       "grid_column": null,
       "grid_gap": null,
       "grid_row": null,
       "grid_template_areas": null,
       "grid_template_columns": null,
       "grid_template_rows": null,
       "height": null,
       "justify_content": null,
       "justify_items": null,
       "left": null,
       "margin": null,
       "max_height": null,
       "max_width": null,
       "min_height": null,
       "min_width": null,
       "object_fit": null,
       "object_position": null,
       "order": null,
       "overflow": null,
       "overflow_x": null,
       "overflow_y": null,
       "padding": null,
       "right": null,
       "top": null,
       "visibility": null,
       "width": "100%"
      }
     },
     "26fa900cf5eb4e028c2c2e80d606c399": {
      "model_module": "@jupyter-widgets/base",
      "model_module_version": "1.2.0",
      "model_name": "LayoutModel",
      "state": {
       "_model_module": "@jupyter-widgets/base",
       "_model_module_version": "1.2.0",
       "_model_name": "LayoutModel",
       "_view_count": null,
       "_view_module": "@jupyter-widgets/base",
       "_view_module_version": "1.2.0",
       "_view_name": "LayoutView",
       "align_content": null,
       "align_items": null,
       "align_self": null,
       "border": null,
       "bottom": null,
       "display": null,
       "flex": null,
       "flex_flow": null,
       "grid_area": null,
       "grid_auto_columns": null,
       "grid_auto_flow": null,
       "grid_auto_rows": null,
       "grid_column": null,
       "grid_gap": null,
       "grid_row": null,
       "grid_template_areas": null,
       "grid_template_columns": null,
       "grid_template_rows": null,
       "height": null,
       "justify_content": null,
       "justify_items": null,
       "left": null,
       "margin": null,
       "max_height": null,
       "max_width": null,
       "min_height": null,
       "min_width": null,
       "object_fit": null,
       "object_position": null,
       "order": null,
       "overflow": null,
       "overflow_x": null,
       "overflow_y": null,
       "padding": null,
       "right": null,
       "top": null,
       "visibility": null,
       "width": null
      }
     },
     "2821114bd9ae4206b2aa26c1dc182702": {
      "model_module": "@jupyter-widgets/controls",
      "model_module_version": "1.5.0",
      "model_name": "DescriptionStyleModel",
      "state": {
       "_model_module": "@jupyter-widgets/controls",
       "_model_module_version": "1.5.0",
       "_model_name": "DescriptionStyleModel",
       "_view_count": null,
       "_view_module": "@jupyter-widgets/base",
       "_view_module_version": "1.2.0",
       "_view_name": "StyleView",
       "description_width": ""
      }
     },
     "2a05667d318d4219823623ec28d98d26": {
      "model_module": "@jupyter-widgets/controls",
      "model_module_version": "1.5.0",
      "model_name": "HBoxModel",
      "state": {
       "_dom_classes": [],
       "_model_module": "@jupyter-widgets/controls",
       "_model_module_version": "1.5.0",
       "_model_name": "HBoxModel",
       "_view_count": null,
       "_view_module": "@jupyter-widgets/controls",
       "_view_module_version": "1.5.0",
       "_view_name": "HBoxView",
       "box_style": "",
       "children": [
        "IPY_MODEL_d0eac29b3c7342f6941f5b04158e6698",
        "IPY_MODEL_9dbac246b14749089caa31746f308512",
        "IPY_MODEL_d79ca7152807471f9fb69aef071623a7"
       ],
       "layout": "IPY_MODEL_78c892253d8c4b3fb32d30fb38c86c1c"
      }
     },
     "2bba7870992540feade5cddb0ffacd44": {
      "model_module": "@jupyter-widgets/base",
      "model_module_version": "1.2.0",
      "model_name": "LayoutModel",
      "state": {
       "_model_module": "@jupyter-widgets/base",
       "_model_module_version": "1.2.0",
       "_model_name": "LayoutModel",
       "_view_count": null,
       "_view_module": "@jupyter-widgets/base",
       "_view_module_version": "1.2.0",
       "_view_name": "LayoutView",
       "align_content": null,
       "align_items": null,
       "align_self": null,
       "border": null,
       "bottom": null,
       "display": null,
       "flex": null,
       "flex_flow": null,
       "grid_area": null,
       "grid_auto_columns": null,
       "grid_auto_flow": null,
       "grid_auto_rows": null,
       "grid_column": null,
       "grid_gap": null,
       "grid_row": null,
       "grid_template_areas": null,
       "grid_template_columns": null,
       "grid_template_rows": null,
       "height": null,
       "justify_content": null,
       "justify_items": null,
       "left": null,
       "margin": null,
       "max_height": null,
       "max_width": null,
       "min_height": null,
       "min_width": null,
       "object_fit": null,
       "object_position": null,
       "order": null,
       "overflow": null,
       "overflow_x": null,
       "overflow_y": null,
       "padding": null,
       "right": null,
       "top": null,
       "visibility": null,
       "width": null
      }
     },
     "34c3001e9c6e4d3092375b34d558e1da": {
      "model_module": "@jupyter-widgets/base",
      "model_module_version": "1.2.0",
      "model_name": "LayoutModel",
      "state": {
       "_model_module": "@jupyter-widgets/base",
       "_model_module_version": "1.2.0",
       "_model_name": "LayoutModel",
       "_view_count": null,
       "_view_module": "@jupyter-widgets/base",
       "_view_module_version": "1.2.0",
       "_view_name": "LayoutView",
       "align_content": null,
       "align_items": null,
       "align_self": null,
       "border": null,
       "bottom": null,
       "display": null,
       "flex": null,
       "flex_flow": null,
       "grid_area": null,
       "grid_auto_columns": null,
       "grid_auto_flow": null,
       "grid_auto_rows": null,
       "grid_column": null,
       "grid_gap": null,
       "grid_row": null,
       "grid_template_areas": null,
       "grid_template_columns": null,
       "grid_template_rows": null,
       "height": null,
       "justify_content": null,
       "justify_items": null,
       "left": null,
       "margin": null,
       "max_height": null,
       "max_width": null,
       "min_height": null,
       "min_width": null,
       "object_fit": null,
       "object_position": null,
       "order": null,
       "overflow": null,
       "overflow_x": null,
       "overflow_y": null,
       "padding": null,
       "right": null,
       "top": null,
       "visibility": null,
       "width": null
      }
     },
     "38882bd650ab4d0d8d4ba6fd5dbb645e": {
      "model_module": "@jupyter-widgets/base",
      "model_module_version": "1.2.0",
      "model_name": "LayoutModel",
      "state": {
       "_model_module": "@jupyter-widgets/base",
       "_model_module_version": "1.2.0",
       "_model_name": "LayoutModel",
       "_view_count": null,
       "_view_module": "@jupyter-widgets/base",
       "_view_module_version": "1.2.0",
       "_view_name": "LayoutView",
       "align_content": null,
       "align_items": null,
       "align_self": null,
       "border": null,
       "bottom": null,
       "display": null,
       "flex": "2",
       "flex_flow": null,
       "grid_area": null,
       "grid_auto_columns": null,
       "grid_auto_flow": null,
       "grid_auto_rows": null,
       "grid_column": null,
       "grid_gap": null,
       "grid_row": null,
       "grid_template_areas": null,
       "grid_template_columns": null,
       "grid_template_rows": null,
       "height": null,
       "justify_content": null,
       "justify_items": null,
       "left": null,
       "margin": null,
       "max_height": null,
       "max_width": null,
       "min_height": null,
       "min_width": null,
       "object_fit": null,
       "object_position": null,
       "order": null,
       "overflow": null,
       "overflow_x": null,
       "overflow_y": null,
       "padding": null,
       "right": null,
       "top": null,
       "visibility": null,
       "width": null
      }
     },
     "3e51192b0a704c078454f6dcdce009c5": {
      "model_module": "@jupyter-widgets/controls",
      "model_module_version": "1.5.0",
      "model_name": "DescriptionStyleModel",
      "state": {
       "_model_module": "@jupyter-widgets/controls",
       "_model_module_version": "1.5.0",
       "_model_name": "DescriptionStyleModel",
       "_view_count": null,
       "_view_module": "@jupyter-widgets/base",
       "_view_module_version": "1.2.0",
       "_view_name": "StyleView",
       "description_width": ""
      }
     },
     "3ee6152105534181b7115c38185c49d2": {
      "model_module": "@jupyter-widgets/controls",
      "model_module_version": "1.5.0",
      "model_name": "HBoxModel",
      "state": {
       "_dom_classes": [],
       "_model_module": "@jupyter-widgets/controls",
       "_model_module_version": "1.5.0",
       "_model_name": "HBoxModel",
       "_view_count": null,
       "_view_module": "@jupyter-widgets/controls",
       "_view_module_version": "1.5.0",
       "_view_name": "HBoxView",
       "box_style": "",
       "children": [
        "IPY_MODEL_e55c28424f4e4c389a663f33cd5ba8af",
        "IPY_MODEL_2191a59b886f4b2ca1953cb1c0b6e69b",
        "IPY_MODEL_9d241c5e29b44255b01fe1fd8c9a6b37"
       ],
       "layout": "IPY_MODEL_34c3001e9c6e4d3092375b34d558e1da"
      }
     },
     "3faa857a911c4f91b6dd0c8439ce73d4": {
      "model_module": "@jupyter-widgets/base",
      "model_module_version": "1.2.0",
      "model_name": "LayoutModel",
      "state": {
       "_model_module": "@jupyter-widgets/base",
       "_model_module_version": "1.2.0",
       "_model_name": "LayoutModel",
       "_view_count": null,
       "_view_module": "@jupyter-widgets/base",
       "_view_module_version": "1.2.0",
       "_view_name": "LayoutView",
       "align_content": null,
       "align_items": null,
       "align_self": null,
       "border": null,
       "bottom": null,
       "display": null,
       "flex": null,
       "flex_flow": null,
       "grid_area": null,
       "grid_auto_columns": null,
       "grid_auto_flow": null,
       "grid_auto_rows": null,
       "grid_column": null,
       "grid_gap": null,
       "grid_row": null,
       "grid_template_areas": null,
       "grid_template_columns": null,
       "grid_template_rows": null,
       "height": null,
       "justify_content": null,
       "justify_items": null,
       "left": null,
       "margin": null,
       "max_height": null,
       "max_width": null,
       "min_height": null,
       "min_width": null,
       "object_fit": null,
       "object_position": null,
       "order": null,
       "overflow": null,
       "overflow_x": null,
       "overflow_y": null,
       "padding": null,
       "right": null,
       "top": null,
       "visibility": null,
       "width": null
      }
     },
     "41b28f94da984892b85063c5433422ed": {
      "model_module": "@jupyter-widgets/base",
      "model_module_version": "1.2.0",
      "model_name": "LayoutModel",
      "state": {
       "_model_module": "@jupyter-widgets/base",
       "_model_module_version": "1.2.0",
       "_model_name": "LayoutModel",
       "_view_count": null,
       "_view_module": "@jupyter-widgets/base",
       "_view_module_version": "1.2.0",
       "_view_name": "LayoutView",
       "align_content": null,
       "align_items": null,
       "align_self": null,
       "border": null,
       "bottom": null,
       "display": null,
       "flex": null,
       "flex_flow": null,
       "grid_area": null,
       "grid_auto_columns": null,
       "grid_auto_flow": null,
       "grid_auto_rows": null,
       "grid_column": null,
       "grid_gap": null,
       "grid_row": null,
       "grid_template_areas": null,
       "grid_template_columns": null,
       "grid_template_rows": null,
       "height": null,
       "justify_content": null,
       "justify_items": null,
       "left": null,
       "margin": null,
       "max_height": null,
       "max_width": null,
       "min_height": null,
       "min_width": null,
       "object_fit": null,
       "object_position": null,
       "order": null,
       "overflow": null,
       "overflow_x": null,
       "overflow_y": null,
       "padding": null,
       "right": null,
       "top": null,
       "visibility": null,
       "width": null
      }
     },
     "4300fd820b1040eebd0804b2853c0c2d": {
      "model_module": "@jupyter-widgets/controls",
      "model_module_version": "1.5.0",
      "model_name": "HTMLModel",
      "state": {
       "_dom_classes": [],
       "_model_module": "@jupyter-widgets/controls",
       "_model_module_version": "1.5.0",
       "_model_name": "HTMLModel",
       "_view_count": null,
       "_view_module": "@jupyter-widgets/controls",
       "_view_module_version": "1.5.0",
       "_view_name": "HTMLView",
       "description": "",
       "description_tooltip": null,
       "layout": "IPY_MODEL_69488f43b3d84c22a339c83291e2ae99",
       "placeholder": "​",
       "style": "IPY_MODEL_52c29b9b3b814cd8abc9a69ea3fd4c27",
       "value": "Validating:   0%"
      }
     },
     "431169cd63c64c679dd9e8ba784ddc27": {
      "model_module": "@jupyter-widgets/controls",
      "model_module_version": "1.5.0",
      "model_name": "ProgressStyleModel",
      "state": {
       "_model_module": "@jupyter-widgets/controls",
       "_model_module_version": "1.5.0",
       "_model_name": "ProgressStyleModel",
       "_view_count": null,
       "_view_module": "@jupyter-widgets/base",
       "_view_module_version": "1.2.0",
       "_view_name": "StyleView",
       "bar_color": null,
       "description_width": ""
      }
     },
     "470c5531be3d4d0482b16877f78b9a0e": {
      "model_module": "@jupyter-widgets/controls",
      "model_module_version": "1.5.0",
      "model_name": "FloatProgressModel",
      "state": {
       "_dom_classes": [],
       "_model_module": "@jupyter-widgets/controls",
       "_model_module_version": "1.5.0",
       "_model_name": "FloatProgressModel",
       "_view_count": null,
       "_view_module": "@jupyter-widgets/controls",
       "_view_module_version": "1.5.0",
       "_view_name": "ProgressView",
       "bar_style": "success",
       "description": "",
       "description_tooltip": null,
       "layout": "IPY_MODEL_caa82b4fd3634a48922f5e6362689cac",
       "max": 3903.0,
       "min": 0.0,
       "orientation": "horizontal",
       "style": "IPY_MODEL_fdcbcac40bf4461d975c4a8350497139",
       "value": 3903.0
      }
     },
     "47cc936db6bb4ff198b591292f5598ef": {
      "model_module": "@jupyter-widgets/controls",
      "model_module_version": "1.5.0",
      "model_name": "ProgressStyleModel",
      "state": {
       "_model_module": "@jupyter-widgets/controls",
       "_model_module_version": "1.5.0",
       "_model_name": "ProgressStyleModel",
       "_view_count": null,
       "_view_module": "@jupyter-widgets/base",
       "_view_module_version": "1.2.0",
       "_view_name": "StyleView",
       "bar_color": null,
       "description_width": ""
      }
     },
     "490d9113bca94533b4667f91b46c7760": {
      "model_module": "@jupyter-widgets/base",
      "model_module_version": "1.2.0",
      "model_name": "LayoutModel",
      "state": {
       "_model_module": "@jupyter-widgets/base",
       "_model_module_version": "1.2.0",
       "_model_name": "LayoutModel",
       "_view_count": null,
       "_view_module": "@jupyter-widgets/base",
       "_view_module_version": "1.2.0",
       "_view_name": "LayoutView",
       "align_content": null,
       "align_items": null,
       "align_self": null,
       "border": null,
       "bottom": null,
       "display": null,
       "flex": null,
       "flex_flow": null,
       "grid_area": null,
       "grid_auto_columns": null,
       "grid_auto_flow": null,
       "grid_auto_rows": null,
       "grid_column": null,
       "grid_gap": null,
       "grid_row": null,
       "grid_template_areas": null,
       "grid_template_columns": null,
       "grid_template_rows": null,
       "height": null,
       "justify_content": null,
       "justify_items": null,
       "left": null,
       "margin": null,
       "max_height": null,
       "max_width": null,
       "min_height": null,
       "min_width": null,
       "object_fit": null,
       "object_position": null,
       "order": null,
       "overflow": null,
       "overflow_x": null,
       "overflow_y": null,
       "padding": null,
       "right": null,
       "top": null,
       "visibility": null,
       "width": null
      }
     },
     "4b49d1ed0db047d5a39d3e6fdf33c633": {
      "model_module": "@jupyter-widgets/base",
      "model_module_version": "1.2.0",
      "model_name": "LayoutModel",
      "state": {
       "_model_module": "@jupyter-widgets/base",
       "_model_module_version": "1.2.0",
       "_model_name": "LayoutModel",
       "_view_count": null,
       "_view_module": "@jupyter-widgets/base",
       "_view_module_version": "1.2.0",
       "_view_name": "LayoutView",
       "align_content": null,
       "align_items": null,
       "align_self": null,
       "border": null,
       "bottom": null,
       "display": null,
       "flex": null,
       "flex_flow": null,
       "grid_area": null,
       "grid_auto_columns": null,
       "grid_auto_flow": null,
       "grid_auto_rows": null,
       "grid_column": null,
       "grid_gap": null,
       "grid_row": null,
       "grid_template_areas": null,
       "grid_template_columns": null,
       "grid_template_rows": null,
       "height": null,
       "justify_content": null,
       "justify_items": null,
       "left": null,
       "margin": null,
       "max_height": null,
       "max_width": null,
       "min_height": null,
       "min_width": null,
       "object_fit": null,
       "object_position": null,
       "order": null,
       "overflow": null,
       "overflow_x": null,
       "overflow_y": null,
       "padding": null,
       "right": null,
       "top": null,
       "visibility": null,
       "width": null
      }
     },
     "4ffc463a85c446f18cc45634d965bcfc": {
      "model_module": "@jupyter-widgets/base",
      "model_module_version": "1.2.0",
      "model_name": "LayoutModel",
      "state": {
       "_model_module": "@jupyter-widgets/base",
       "_model_module_version": "1.2.0",
       "_model_name": "LayoutModel",
       "_view_count": null,
       "_view_module": "@jupyter-widgets/base",
       "_view_module_version": "1.2.0",
       "_view_name": "LayoutView",
       "align_content": null,
       "align_items": null,
       "align_self": null,
       "border": null,
       "bottom": null,
       "display": null,
       "flex": null,
       "flex_flow": null,
       "grid_area": null,
       "grid_auto_columns": null,
       "grid_auto_flow": null,
       "grid_auto_rows": null,
       "grid_column": null,
       "grid_gap": null,
       "grid_row": null,
       "grid_template_areas": null,
       "grid_template_columns": null,
       "grid_template_rows": null,
       "height": null,
       "justify_content": null,
       "justify_items": null,
       "left": null,
       "margin": null,
       "max_height": null,
       "max_width": null,
       "min_height": null,
       "min_width": null,
       "object_fit": null,
       "object_position": null,
       "order": null,
       "overflow": null,
       "overflow_x": null,
       "overflow_y": null,
       "padding": null,
       "right": null,
       "top": null,
       "visibility": null,
       "width": null
      }
     },
     "52c29b9b3b814cd8abc9a69ea3fd4c27": {
      "model_module": "@jupyter-widgets/controls",
      "model_module_version": "1.5.0",
      "model_name": "DescriptionStyleModel",
      "state": {
       "_model_module": "@jupyter-widgets/controls",
       "_model_module_version": "1.5.0",
       "_model_name": "DescriptionStyleModel",
       "_view_count": null,
       "_view_module": "@jupyter-widgets/base",
       "_view_module_version": "1.2.0",
       "_view_name": "StyleView",
       "description_width": ""
      }
     },
     "54068892f09e40dc9f14df8febae4539": {
      "model_module": "@jupyter-widgets/base",
      "model_module_version": "1.2.0",
      "model_name": "LayoutModel",
      "state": {
       "_model_module": "@jupyter-widgets/base",
       "_model_module_version": "1.2.0",
       "_model_name": "LayoutModel",
       "_view_count": null,
       "_view_module": "@jupyter-widgets/base",
       "_view_module_version": "1.2.0",
       "_view_name": "LayoutView",
       "align_content": null,
       "align_items": null,
       "align_self": null,
       "border": null,
       "bottom": null,
       "display": null,
       "flex": "2",
       "flex_flow": null,
       "grid_area": null,
       "grid_auto_columns": null,
       "grid_auto_flow": null,
       "grid_auto_rows": null,
       "grid_column": null,
       "grid_gap": null,
       "grid_row": null,
       "grid_template_areas": null,
       "grid_template_columns": null,
       "grid_template_rows": null,
       "height": null,
       "justify_content": null,
       "justify_items": null,
       "left": null,
       "margin": null,
       "max_height": null,
       "max_width": null,
       "min_height": null,
       "min_width": null,
       "object_fit": null,
       "object_position": null,
       "order": null,
       "overflow": null,
       "overflow_x": null,
       "overflow_y": null,
       "padding": null,
       "right": null,
       "top": null,
       "visibility": null,
       "width": null
      }
     },
     "540b287000774f8482dc6b3d86f5f5f5": {
      "model_module": "@jupyter-widgets/controls",
      "model_module_version": "1.5.0",
      "model_name": "HTMLModel",
      "state": {
       "_dom_classes": [],
       "_model_module": "@jupyter-widgets/controls",
       "_model_module_version": "1.5.0",
       "_model_name": "HTMLModel",
       "_view_count": null,
       "_view_module": "@jupyter-widgets/controls",
       "_view_module_version": "1.5.0",
       "_view_name": "HTMLView",
       "description": "",
       "description_tooltip": null,
       "layout": "IPY_MODEL_b2d7f2923ba04677baf02479d40b8289",
       "placeholder": "​",
       "style": "IPY_MODEL_2821114bd9ae4206b2aa26c1dc182702",
       "value": " 137/137 [00:35&lt;00:00,  3.86it/s, loss=1.36, v_num=0, train_loss_step=1.770, val_loss=1.210, train_loss_epoch=1.850]"
      }
     },
     "5fccb795cba14f839cedec279c261bd2": {
      "model_module": "@jupyter-widgets/base",
      "model_module_version": "1.2.0",
      "model_name": "LayoutModel",
      "state": {
       "_model_module": "@jupyter-widgets/base",
       "_model_module_version": "1.2.0",
       "_model_name": "LayoutModel",
       "_view_count": null,
       "_view_module": "@jupyter-widgets/base",
       "_view_module_version": "1.2.0",
       "_view_name": "LayoutView",
       "align_content": null,
       "align_items": null,
       "align_self": null,
       "border": null,
       "bottom": null,
       "display": null,
       "flex": "2",
       "flex_flow": null,
       "grid_area": null,
       "grid_auto_columns": null,
       "grid_auto_flow": null,
       "grid_auto_rows": null,
       "grid_column": null,
       "grid_gap": null,
       "grid_row": null,
       "grid_template_areas": null,
       "grid_template_columns": null,
       "grid_template_rows": null,
       "height": null,
       "justify_content": null,
       "justify_items": null,
       "left": null,
       "margin": null,
       "max_height": null,
       "max_width": null,
       "min_height": null,
       "min_width": null,
       "object_fit": null,
       "object_position": null,
       "order": null,
       "overflow": null,
       "overflow_x": null,
       "overflow_y": null,
       "padding": null,
       "right": null,
       "top": null,
       "visibility": null,
       "width": null
      }
     },
     "629e1b3cb017456ca4f8eae4019192ea": {
      "model_module": "@jupyter-widgets/controls",
      "model_module_version": "1.5.0",
      "model_name": "DescriptionStyleModel",
      "state": {
       "_model_module": "@jupyter-widgets/controls",
       "_model_module_version": "1.5.0",
       "_model_name": "DescriptionStyleModel",
       "_view_count": null,
       "_view_module": "@jupyter-widgets/base",
       "_view_module_version": "1.2.0",
       "_view_name": "StyleView",
       "description_width": ""
      }
     },
     "6459f87804714955b11f760c0c452690": {
      "model_module": "@jupyter-widgets/controls",
      "model_module_version": "1.5.0",
      "model_name": "ProgressStyleModel",
      "state": {
       "_model_module": "@jupyter-widgets/controls",
       "_model_module_version": "1.5.0",
       "_model_name": "ProgressStyleModel",
       "_view_count": null,
       "_view_module": "@jupyter-widgets/base",
       "_view_module_version": "1.2.0",
       "_view_name": "StyleView",
       "bar_color": null,
       "description_width": ""
      }
     },
     "64e1d39aac8f4cc0bdfc631f55c29044": {
      "model_module": "@jupyter-widgets/controls",
      "model_module_version": "1.5.0",
      "model_name": "HTMLModel",
      "state": {
       "_dom_classes": [],
       "_model_module": "@jupyter-widgets/controls",
       "_model_module_version": "1.5.0",
       "_model_name": "HTMLModel",
       "_view_count": null,
       "_view_module": "@jupyter-widgets/controls",
       "_view_module_version": "1.5.0",
       "_view_name": "HTMLView",
       "description": "",
       "description_tooltip": null,
       "layout": "IPY_MODEL_d4f7fced1b8044019a032d3d4eaee15b",
       "placeholder": "​",
       "style": "IPY_MODEL_bd8ee02096774ef0a9a38d3b81ac46d6",
       "value": "/__w/1/s/.datasets/kaggle_electricity.zip: "
      }
     },
     "678a1665a7ab4b3f92dd1ae59580adbd": {
      "model_module": "@jupyter-widgets/base",
      "model_module_version": "1.2.0",
      "model_name": "LayoutModel",
      "state": {
       "_model_module": "@jupyter-widgets/base",
       "_model_module_version": "1.2.0",
       "_model_name": "LayoutModel",
       "_view_count": null,
       "_view_module": "@jupyter-widgets/base",
       "_view_module_version": "1.2.0",
       "_view_name": "LayoutView",
       "align_content": null,
       "align_items": null,
       "align_self": null,
       "border": null,
       "bottom": null,
       "display": null,
       "flex": "2",
       "flex_flow": null,
       "grid_area": null,
       "grid_auto_columns": null,
       "grid_auto_flow": null,
       "grid_auto_rows": null,
       "grid_column": null,
       "grid_gap": null,
       "grid_row": null,
       "grid_template_areas": null,
       "grid_template_columns": null,
       "grid_template_rows": null,
       "height": null,
       "justify_content": null,
       "justify_items": null,
       "left": null,
       "margin": null,
       "max_height": null,
       "max_width": null,
       "min_height": null,
       "min_width": null,
       "object_fit": null,
       "object_position": null,
       "order": null,
       "overflow": null,
       "overflow_x": null,
       "overflow_y": null,
       "padding": null,
       "right": null,
       "top": null,
       "visibility": null,
       "width": null
      }
     },
     "69488f43b3d84c22a339c83291e2ae99": {
      "model_module": "@jupyter-widgets/base",
      "model_module_version": "1.2.0",
      "model_name": "LayoutModel",
      "state": {
       "_model_module": "@jupyter-widgets/base",
       "_model_module_version": "1.2.0",
       "_model_name": "LayoutModel",
       "_view_count": null,
       "_view_module": "@jupyter-widgets/base",
       "_view_module_version": "1.2.0",
       "_view_name": "LayoutView",
       "align_content": null,
       "align_items": null,
       "align_self": null,
       "border": null,
       "bottom": null,
       "display": null,
       "flex": null,
       "flex_flow": null,
       "grid_area": null,
       "grid_auto_columns": null,
       "grid_auto_flow": null,
       "grid_auto_rows": null,
       "grid_column": null,
       "grid_gap": null,
       "grid_row": null,
       "grid_template_areas": null,
       "grid_template_columns": null,
       "grid_template_rows": null,
       "height": null,
       "justify_content": null,
       "justify_items": null,
       "left": null,
       "margin": null,
       "max_height": null,
       "max_width": null,
       "min_height": null,
       "min_width": null,
       "object_fit": null,
       "object_position": null,
       "order": null,
       "overflow": null,
       "overflow_x": null,
       "overflow_y": null,
       "padding": null,
       "right": null,
       "top": null,
       "visibility": null,
       "width": null
      }
     },
     "695ee3d53a6d4e42b7a5ea981c06f4b1": {
      "model_module": "@jupyter-widgets/base",
      "model_module_version": "1.2.0",
      "model_name": "LayoutModel",
      "state": {
       "_model_module": "@jupyter-widgets/base",
       "_model_module_version": "1.2.0",
       "_model_name": "LayoutModel",
       "_view_count": null,
       "_view_module": "@jupyter-widgets/base",
       "_view_module_version": "1.2.0",
       "_view_name": "LayoutView",
       "align_content": null,
       "align_items": null,
       "align_self": null,
       "border": null,
       "bottom": null,
       "display": null,
       "flex": null,
       "flex_flow": null,
       "grid_area": null,
       "grid_auto_columns": null,
       "grid_auto_flow": null,
       "grid_auto_rows": null,
       "grid_column": null,
       "grid_gap": null,
       "grid_row": null,
       "grid_template_areas": null,
       "grid_template_columns": null,
       "grid_template_rows": null,
       "height": null,
       "justify_content": null,
       "justify_items": null,
       "left": null,
       "margin": null,
       "max_height": null,
       "max_width": null,
       "min_height": null,
       "min_width": null,
       "object_fit": null,
       "object_position": null,
       "order": null,
       "overflow": null,
       "overflow_x": null,
       "overflow_y": null,
       "padding": null,
       "right": null,
       "top": null,
       "visibility": null,
       "width": null
      }
     },
     "6cea812514ea4839b3e12f394d614892": {
      "model_module": "@jupyter-widgets/base",
      "model_module_version": "1.2.0",
      "model_name": "LayoutModel",
      "state": {
       "_model_module": "@jupyter-widgets/base",
       "_model_module_version": "1.2.0",
       "_model_name": "LayoutModel",
       "_view_count": null,
       "_view_module": "@jupyter-widgets/base",
       "_view_module_version": "1.2.0",
       "_view_name": "LayoutView",
       "align_content": null,
       "align_items": null,
       "align_self": null,
       "border": null,
       "bottom": null,
       "display": null,
       "flex": "2",
       "flex_flow": null,
       "grid_area": null,
       "grid_auto_columns": null,
       "grid_auto_flow": null,
       "grid_auto_rows": null,
       "grid_column": null,
       "grid_gap": null,
       "grid_row": null,
       "grid_template_areas": null,
       "grid_template_columns": null,
       "grid_template_rows": null,
       "height": null,
       "justify_content": null,
       "justify_items": null,
       "left": null,
       "margin": null,
       "max_height": null,
       "max_width": null,
       "min_height": null,
       "min_width": null,
       "object_fit": null,
       "object_position": null,
       "order": null,
       "overflow": null,
       "overflow_x": null,
       "overflow_y": null,
       "padding": null,
       "right": null,
       "top": null,
       "visibility": null,
       "width": null
      }
     },
     "6d08a4971c184afb9d50f9b2f54aaf8b": {
      "model_module": "@jupyter-widgets/base",
      "model_module_version": "1.2.0",
      "model_name": "LayoutModel",
      "state": {
       "_model_module": "@jupyter-widgets/base",
       "_model_module_version": "1.2.0",
       "_model_name": "LayoutModel",
       "_view_count": null,
       "_view_module": "@jupyter-widgets/base",
       "_view_module_version": "1.2.0",
       "_view_name": "LayoutView",
       "align_content": null,
       "align_items": null,
       "align_self": null,
       "border": null,
       "bottom": null,
       "display": null,
       "flex": null,
       "flex_flow": null,
       "grid_area": null,
       "grid_auto_columns": null,
       "grid_auto_flow": null,
       "grid_auto_rows": null,
       "grid_column": null,
       "grid_gap": null,
       "grid_row": null,
       "grid_template_areas": null,
       "grid_template_columns": null,
       "grid_template_rows": null,
       "height": null,
       "justify_content": null,
       "justify_items": null,
       "left": null,
       "margin": null,
       "max_height": null,
       "max_width": null,
       "min_height": null,
       "min_width": null,
       "object_fit": null,
       "object_position": null,
       "order": null,
       "overflow": null,
       "overflow_x": null,
       "overflow_y": null,
       "padding": null,
       "right": null,
       "top": null,
       "visibility": null,
       "width": null
      }
     },
     "6d1fa454a0054acf9ca0e19f2dac2ee2": {
      "model_module": "@jupyter-widgets/base",
      "model_module_version": "1.2.0",
      "model_name": "LayoutModel",
      "state": {
       "_model_module": "@jupyter-widgets/base",
       "_model_module_version": "1.2.0",
       "_model_name": "LayoutModel",
       "_view_count": null,
       "_view_module": "@jupyter-widgets/base",
       "_view_module_version": "1.2.0",
       "_view_name": "LayoutView",
       "align_content": null,
       "align_items": null,
       "align_self": null,
       "border": null,
       "bottom": null,
       "display": "inline-flex",
       "flex": null,
       "flex_flow": "row wrap",
       "grid_area": null,
       "grid_auto_columns": null,
       "grid_auto_flow": null,
       "grid_auto_rows": null,
       "grid_column": null,
       "grid_gap": null,
       "grid_row": null,
       "grid_template_areas": null,
       "grid_template_columns": null,
       "grid_template_rows": null,
       "height": null,
       "justify_content": null,
       "justify_items": null,
       "left": null,
       "margin": null,
       "max_height": null,
       "max_width": null,
       "min_height": null,
       "min_width": null,
       "object_fit": null,
       "object_position": null,
       "order": null,
       "overflow": null,
       "overflow_x": null,
       "overflow_y": null,
       "padding": null,
       "right": null,
       "top": null,
       "visibility": null,
       "width": "100%"
      }
     },
     "6dc0af0dc869496286ddd0ad90d2caba": {
      "model_module": "@jupyter-widgets/controls",
      "model_module_version": "1.5.0",
      "model_name": "FloatProgressModel",
      "state": {
       "_dom_classes": [],
       "_model_module": "@jupyter-widgets/controls",
       "_model_module_version": "1.5.0",
       "_model_name": "FloatProgressModel",
       "_view_count": null,
       "_view_module": "@jupyter-widgets/controls",
       "_view_module_version": "1.5.0",
       "_view_name": "ProgressView",
       "bar_style": "",
       "description": "",
       "description_tooltip": null,
       "layout": "IPY_MODEL_90f32db1915647eaac584beda8617af3",
       "max": 1.0,
       "min": 0.0,
       "orientation": "horizontal",
       "style": "IPY_MODEL_92f30367a2224c1ebd2e3916c4d5d20e",
       "value": 1.0
      }
     },
     "6dc2711c7e2f482eb10b3f122c81e306": {
      "model_module": "@jupyter-widgets/controls",
      "model_module_version": "1.5.0",
      "model_name": "ProgressStyleModel",
      "state": {
       "_model_module": "@jupyter-widgets/controls",
       "_model_module_version": "1.5.0",
       "_model_name": "ProgressStyleModel",
       "_view_count": null,
       "_view_module": "@jupyter-widgets/base",
       "_view_module_version": "1.2.0",
       "_view_name": "StyleView",
       "bar_color": null,
       "description_width": ""
      }
     },
     "6f80eebe91f54664b74b4c28794329dd": {
      "model_module": "@jupyter-widgets/controls",
      "model_module_version": "1.5.0",
      "model_name": "HBoxModel",
      "state": {
       "_dom_classes": [],
       "_model_module": "@jupyter-widgets/controls",
       "_model_module_version": "1.5.0",
       "_model_name": "HBoxModel",
       "_view_count": null,
       "_view_module": "@jupyter-widgets/controls",
       "_view_module_version": "1.5.0",
       "_view_name": "HBoxView",
       "box_style": "",
       "children": [
        "IPY_MODEL_170bd0a5f8394c809c989b00c5e44e39",
        "IPY_MODEL_08b96054fa1e4016899c8b4f5b7152d1",
        "IPY_MODEL_c8c8bb353478440dbbac87559c027e8c"
       ],
       "layout": "IPY_MODEL_b776999caa6f418f99eaef0007253c98"
      }
     },
     "6fffe2a1887747948c9e73a8eb973cf6": {
      "model_module": "@jupyter-widgets/controls",
      "model_module_version": "1.5.0",
      "model_name": "HBoxModel",
      "state": {
       "_dom_classes": [],
       "_model_module": "@jupyter-widgets/controls",
       "_model_module_version": "1.5.0",
       "_model_name": "HBoxModel",
       "_view_count": null,
       "_view_module": "@jupyter-widgets/controls",
       "_view_module_version": "1.5.0",
       "_view_name": "HBoxView",
       "box_style": "",
       "children": [
        "IPY_MODEL_b700afc6c39b494fa8e0ef90eac05a34",
        "IPY_MODEL_956196565e3e4723835328a5c1cb663c",
        "IPY_MODEL_d523995a77de4c68a8b91837b7741853"
       ],
       "layout": "IPY_MODEL_f821d18e0f3b4f35a1c9f9fd07959777"
      }
     },
     "73ebef4dabbf415c964c8d37e663135e": {
      "model_module": "@jupyter-widgets/base",
      "model_module_version": "1.2.0",
      "model_name": "LayoutModel",
      "state": {
       "_model_module": "@jupyter-widgets/base",
       "_model_module_version": "1.2.0",
       "_model_name": "LayoutModel",
       "_view_count": null,
       "_view_module": "@jupyter-widgets/base",
       "_view_module_version": "1.2.0",
       "_view_name": "LayoutView",
       "align_content": null,
       "align_items": null,
       "align_self": null,
       "border": null,
       "bottom": null,
       "display": null,
       "flex": "2",
       "flex_flow": null,
       "grid_area": null,
       "grid_auto_columns": null,
       "grid_auto_flow": null,
       "grid_auto_rows": null,
       "grid_column": null,
       "grid_gap": null,
       "grid_row": null,
       "grid_template_areas": null,
       "grid_template_columns": null,
       "grid_template_rows": null,
       "height": null,
       "justify_content": null,
       "justify_items": null,
       "left": null,
       "margin": null,
       "max_height": null,
       "max_width": null,
       "min_height": null,
       "min_width": null,
       "object_fit": null,
       "object_position": null,
       "order": null,
       "overflow": null,
       "overflow_x": null,
       "overflow_y": null,
       "padding": null,
       "right": null,
       "top": null,
       "visibility": null,
       "width": null
      }
     },
     "756ac65862a04d199b28739c22c2ef16": {
      "model_module": "@jupyter-widgets/base",
      "model_module_version": "1.2.0",
      "model_name": "LayoutModel",
      "state": {
       "_model_module": "@jupyter-widgets/base",
       "_model_module_version": "1.2.0",
       "_model_name": "LayoutModel",
       "_view_count": null,
       "_view_module": "@jupyter-widgets/base",
       "_view_module_version": "1.2.0",
       "_view_name": "LayoutView",
       "align_content": null,
       "align_items": null,
       "align_self": null,
       "border": null,
       "bottom": null,
       "display": "inline-flex",
       "flex": null,
       "flex_flow": "row wrap",
       "grid_area": null,
       "grid_auto_columns": null,
       "grid_auto_flow": null,
       "grid_auto_rows": null,
       "grid_column": null,
       "grid_gap": null,
       "grid_row": null,
       "grid_template_areas": null,
       "grid_template_columns": null,
       "grid_template_rows": null,
       "height": null,
       "justify_content": null,
       "justify_items": null,
       "left": null,
       "margin": null,
       "max_height": null,
       "max_width": null,
       "min_height": null,
       "min_width": null,
       "object_fit": null,
       "object_position": null,
       "order": null,
       "overflow": null,
       "overflow_x": null,
       "overflow_y": null,
       "padding": null,
       "right": null,
       "top": null,
       "visibility": null,
       "width": "100%"
      }
     },
     "75a209b2779d43709eba04ba8a642f54": {
      "model_module": "@jupyter-widgets/controls",
      "model_module_version": "1.5.0",
      "model_name": "FloatProgressModel",
      "state": {
       "_dom_classes": [],
       "_model_module": "@jupyter-widgets/controls",
       "_model_module_version": "1.5.0",
       "_model_name": "FloatProgressModel",
       "_view_count": null,
       "_view_module": "@jupyter-widgets/controls",
       "_view_module_version": "1.5.0",
       "_view_name": "ProgressView",
       "bar_style": "",
       "description": "",
       "description_tooltip": null,
       "layout": "IPY_MODEL_54068892f09e40dc9f14df8febae4539",
       "max": 1.0,
       "min": 0.0,
       "orientation": "horizontal",
       "style": "IPY_MODEL_6dc2711c7e2f482eb10b3f122c81e306",
       "value": 1.0
      }
     },
     "78c892253d8c4b3fb32d30fb38c86c1c": {
      "model_module": "@jupyter-widgets/base",
      "model_module_version": "1.2.0",
      "model_name": "LayoutModel",
      "state": {
       "_model_module": "@jupyter-widgets/base",
       "_model_module_version": "1.2.0",
       "_model_name": "LayoutModel",
       "_view_count": null,
       "_view_module": "@jupyter-widgets/base",
       "_view_module_version": "1.2.0",
       "_view_name": "LayoutView",
       "align_content": null,
       "align_items": null,
       "align_self": null,
       "border": null,
       "bottom": null,
       "display": "inline-flex",
       "flex": null,
       "flex_flow": "row wrap",
       "grid_area": null,
       "grid_auto_columns": null,
       "grid_auto_flow": null,
       "grid_auto_rows": null,
       "grid_column": null,
       "grid_gap": null,
       "grid_row": null,
       "grid_template_areas": null,
       "grid_template_columns": null,
       "grid_template_rows": null,
       "height": null,
       "justify_content": null,
       "justify_items": null,
       "left": null,
       "margin": null,
       "max_height": null,
       "max_width": null,
       "min_height": null,
       "min_width": null,
       "object_fit": null,
       "object_position": null,
       "order": null,
       "overflow": null,
       "overflow_x": null,
       "overflow_y": null,
       "padding": null,
       "right": null,
       "top": null,
       "visibility": null,
       "width": "100%"
      }
     },
     "7973a5618f7a4a48a5c2238571db059d": {
      "model_module": "@jupyter-widgets/controls",
      "model_module_version": "1.5.0",
      "model_name": "DescriptionStyleModel",
      "state": {
       "_model_module": "@jupyter-widgets/controls",
       "_model_module_version": "1.5.0",
       "_model_name": "DescriptionStyleModel",
       "_view_count": null,
       "_view_module": "@jupyter-widgets/base",
       "_view_module_version": "1.2.0",
       "_view_name": "StyleView",
       "description_width": ""
      }
     },
     "7a2f93d0c3754f41b3e5f9326e862146": {
      "model_module": "@jupyter-widgets/controls",
      "model_module_version": "1.5.0",
      "model_name": "DescriptionStyleModel",
      "state": {
       "_model_module": "@jupyter-widgets/controls",
       "_model_module_version": "1.5.0",
       "_model_name": "DescriptionStyleModel",
       "_view_count": null,
       "_view_module": "@jupyter-widgets/base",
       "_view_module_version": "1.2.0",
       "_view_name": "StyleView",
       "description_width": ""
      }
     },
     "7b0393e4b4914cc982b7cce2e7b8607f": {
      "model_module": "@jupyter-widgets/controls",
      "model_module_version": "1.5.0",
      "model_name": "HBoxModel",
      "state": {
       "_dom_classes": [],
       "_model_module": "@jupyter-widgets/controls",
       "_model_module_version": "1.5.0",
       "_model_name": "HBoxModel",
       "_view_count": null,
       "_view_module": "@jupyter-widgets/controls",
       "_view_module_version": "1.5.0",
       "_view_name": "HBoxView",
       "box_style": "",
       "children": [
        "IPY_MODEL_4300fd820b1040eebd0804b2853c0c2d",
        "IPY_MODEL_fb825e88d997478cb642b80772e0c513",
        "IPY_MODEL_0e237ba5c0aa4966a53e2ba6f91cca18"
       ],
       "layout": "IPY_MODEL_acd3dfbc6d684402a1430f26cc1682a8"
      }
     },
     "7cbabf566c9c4eb8abf38ad71876a529": {
      "model_module": "@jupyter-widgets/base",
      "model_module_version": "1.2.0",
      "model_name": "LayoutModel",
      "state": {
       "_model_module": "@jupyter-widgets/base",
       "_model_module_version": "1.2.0",
       "_model_name": "LayoutModel",
       "_view_count": null,
       "_view_module": "@jupyter-widgets/base",
       "_view_module_version": "1.2.0",
       "_view_name": "LayoutView",
       "align_content": null,
       "align_items": null,
       "align_self": null,
       "border": null,
       "bottom": null,
       "display": null,
       "flex": null,
       "flex_flow": null,
       "grid_area": null,
       "grid_auto_columns": null,
       "grid_auto_flow": null,
       "grid_auto_rows": null,
       "grid_column": null,
       "grid_gap": null,
       "grid_row": null,
       "grid_template_areas": null,
       "grid_template_columns": null,
       "grid_template_rows": null,
       "height": null,
       "justify_content": null,
       "justify_items": null,
       "left": null,
       "margin": null,
       "max_height": null,
       "max_width": null,
       "min_height": null,
       "min_width": null,
       "object_fit": null,
       "object_position": null,
       "order": null,
       "overflow": null,
       "overflow_x": null,
       "overflow_y": null,
       "padding": null,
       "right": null,
       "top": null,
       "visibility": null,
       "width": null
      }
     },
     "7cfa3406a0f44370bdab4fae90f1aa71": {
      "model_module": "@jupyter-widgets/controls",
      "model_module_version": "1.5.0",
      "model_name": "HTMLModel",
      "state": {
       "_dom_classes": [],
       "_model_module": "@jupyter-widgets/controls",
       "_model_module_version": "1.5.0",
       "_model_name": "HTMLModel",
       "_view_count": null,
       "_view_module": "@jupyter-widgets/controls",
       "_view_module_version": "1.5.0",
       "_view_name": "HTMLView",
       "description": "",
       "description_tooltip": null,
       "layout": "IPY_MODEL_f21c9280b51448338aa5c2d80cff4ad9",
       "placeholder": "​",
       "style": "IPY_MODEL_7a2f93d0c3754f41b3e5f9326e862146",
       "value": " 0/1 [00:00&lt;?, ?it/s]"
      }
     },
     "808a9f4129d94a04933f2870c88f1fa9": {
      "model_module": "@jupyter-widgets/controls",
      "model_module_version": "1.5.0",
      "model_name": "HBoxModel",
      "state": {
       "_dom_classes": [],
       "_model_module": "@jupyter-widgets/controls",
       "_model_module_version": "1.5.0",
       "_model_name": "HBoxModel",
       "_view_count": null,
       "_view_module": "@jupyter-widgets/controls",
       "_view_module_version": "1.5.0",
       "_view_name": "HBoxView",
       "box_style": "",
       "children": [
        "IPY_MODEL_64e1d39aac8f4cc0bdfc631f55c29044",
        "IPY_MODEL_470c5531be3d4d0482b16877f78b9a0e",
        "IPY_MODEL_9580c4e4599e49c1aeeb077fdc6b0df7"
       ],
       "layout": "IPY_MODEL_9134249815fa472ea508dcb9f019fcd8"
      }
     },
     "875949658e8f4b35a0e3209a83ca9af2": {
      "model_module": "@jupyter-widgets/base",
      "model_module_version": "1.2.0",
      "model_name": "LayoutModel",
      "state": {
       "_model_module": "@jupyter-widgets/base",
       "_model_module_version": "1.2.0",
       "_model_name": "LayoutModel",
       "_view_count": null,
       "_view_module": "@jupyter-widgets/base",
       "_view_module_version": "1.2.0",
       "_view_name": "LayoutView",
       "align_content": null,
       "align_items": null,
       "align_self": null,
       "border": null,
       "bottom": null,
       "display": null,
       "flex": null,
       "flex_flow": null,
       "grid_area": null,
       "grid_auto_columns": null,
       "grid_auto_flow": null,
       "grid_auto_rows": null,
       "grid_column": null,
       "grid_gap": null,
       "grid_row": null,
       "grid_template_areas": null,
       "grid_template_columns": null,
       "grid_template_rows": null,
       "height": null,
       "justify_content": null,
       "justify_items": null,
       "left": null,
       "margin": null,
       "max_height": null,
       "max_width": null,
       "min_height": null,
       "min_width": null,
       "object_fit": null,
       "object_position": null,
       "order": null,
       "overflow": null,
       "overflow_x": null,
       "overflow_y": null,
       "padding": null,
       "right": null,
       "top": null,
       "visibility": null,
       "width": null
      }
     },
     "885a585870d5459d85a7927bc07edd10": {
      "model_module": "@jupyter-widgets/controls",
      "model_module_version": "1.5.0",
      "model_name": "DescriptionStyleModel",
      "state": {
       "_model_module": "@jupyter-widgets/controls",
       "_model_module_version": "1.5.0",
       "_model_name": "DescriptionStyleModel",
       "_view_count": null,
       "_view_module": "@jupyter-widgets/base",
       "_view_module_version": "1.2.0",
       "_view_name": "StyleView",
       "description_width": ""
      }
     },
     "8b0f69054fad408cbd39da81a9fb2f99": {
      "model_module": "@jupyter-widgets/controls",
      "model_module_version": "1.5.0",
      "model_name": "DescriptionStyleModel",
      "state": {
       "_model_module": "@jupyter-widgets/controls",
       "_model_module_version": "1.5.0",
       "_model_name": "DescriptionStyleModel",
       "_view_count": null,
       "_view_module": "@jupyter-widgets/base",
       "_view_module_version": "1.2.0",
       "_view_name": "StyleView",
       "description_width": ""
      }
     },
     "8b411ab121fe4efc82ca41c0544d7335": {
      "model_module": "@jupyter-widgets/controls",
      "model_module_version": "1.5.0",
      "model_name": "DescriptionStyleModel",
      "state": {
       "_model_module": "@jupyter-widgets/controls",
       "_model_module_version": "1.5.0",
       "_model_name": "DescriptionStyleModel",
       "_view_count": null,
       "_view_module": "@jupyter-widgets/base",
       "_view_module_version": "1.2.0",
       "_view_name": "StyleView",
       "description_width": ""
      }
     },
     "8c9d812368c446f7a178123b7a79136a": {
      "model_module": "@jupyter-widgets/base",
      "model_module_version": "1.2.0",
      "model_name": "LayoutModel",
      "state": {
       "_model_module": "@jupyter-widgets/base",
       "_model_module_version": "1.2.0",
       "_model_name": "LayoutModel",
       "_view_count": null,
       "_view_module": "@jupyter-widgets/base",
       "_view_module_version": "1.2.0",
       "_view_name": "LayoutView",
       "align_content": null,
       "align_items": null,
       "align_self": null,
       "border": null,
       "bottom": null,
       "display": "inline-flex",
       "flex": null,
       "flex_flow": "row wrap",
       "grid_area": null,
       "grid_auto_columns": null,
       "grid_auto_flow": null,
       "grid_auto_rows": null,
       "grid_column": null,
       "grid_gap": null,
       "grid_row": null,
       "grid_template_areas": null,
       "grid_template_columns": null,
       "grid_template_rows": null,
       "height": null,
       "justify_content": null,
       "justify_items": null,
       "left": null,
       "margin": null,
       "max_height": null,
       "max_width": null,
       "min_height": null,
       "min_width": null,
       "object_fit": null,
       "object_position": null,
       "order": null,
       "overflow": null,
       "overflow_x": null,
       "overflow_y": null,
       "padding": null,
       "right": null,
       "top": null,
       "visibility": null,
       "width": "100%"
      }
     },
     "90cae223a8e74dcbb6d04d0aac21968a": {
      "model_module": "@jupyter-widgets/base",
      "model_module_version": "1.2.0",
      "model_name": "LayoutModel",
      "state": {
       "_model_module": "@jupyter-widgets/base",
       "_model_module_version": "1.2.0",
       "_model_name": "LayoutModel",
       "_view_count": null,
       "_view_module": "@jupyter-widgets/base",
       "_view_module_version": "1.2.0",
       "_view_name": "LayoutView",
       "align_content": null,
       "align_items": null,
       "align_self": null,
       "border": null,
       "bottom": null,
       "display": null,
       "flex": null,
       "flex_flow": null,
       "grid_area": null,
       "grid_auto_columns": null,
       "grid_auto_flow": null,
       "grid_auto_rows": null,
       "grid_column": null,
       "grid_gap": null,
       "grid_row": null,
       "grid_template_areas": null,
       "grid_template_columns": null,
       "grid_template_rows": null,
       "height": null,
       "justify_content": null,
       "justify_items": null,
       "left": null,
       "margin": null,
       "max_height": null,
       "max_width": null,
       "min_height": null,
       "min_width": null,
       "object_fit": null,
       "object_position": null,
       "order": null,
       "overflow": null,
       "overflow_x": null,
       "overflow_y": null,
       "padding": null,
       "right": null,
       "top": null,
       "visibility": null,
       "width": null
      }
     },
     "90cd219fb89444e8ad1f5e1086ba34f9": {
      "model_module": "@jupyter-widgets/controls",
      "model_module_version": "1.5.0",
      "model_name": "DescriptionStyleModel",
      "state": {
       "_model_module": "@jupyter-widgets/controls",
       "_model_module_version": "1.5.0",
       "_model_name": "DescriptionStyleModel",
       "_view_count": null,
       "_view_module": "@jupyter-widgets/base",
       "_view_module_version": "1.2.0",
       "_view_name": "StyleView",
       "description_width": ""
      }
     },
     "90f32db1915647eaac584beda8617af3": {
      "model_module": "@jupyter-widgets/base",
      "model_module_version": "1.2.0",
      "model_name": "LayoutModel",
      "state": {
       "_model_module": "@jupyter-widgets/base",
       "_model_module_version": "1.2.0",
       "_model_name": "LayoutModel",
       "_view_count": null,
       "_view_module": "@jupyter-widgets/base",
       "_view_module_version": "1.2.0",
       "_view_name": "LayoutView",
       "align_content": null,
       "align_items": null,
       "align_self": null,
       "border": null,
       "bottom": null,
       "display": null,
       "flex": "2",
       "flex_flow": null,
       "grid_area": null,
       "grid_auto_columns": null,
       "grid_auto_flow": null,
       "grid_auto_rows": null,
       "grid_column": null,
       "grid_gap": null,
       "grid_row": null,
       "grid_template_areas": null,
       "grid_template_columns": null,
       "grid_template_rows": null,
       "height": null,
       "justify_content": null,
       "justify_items": null,
       "left": null,
       "margin": null,
       "max_height": null,
       "max_width": null,
       "min_height": null,
       "min_width": null,
       "object_fit": null,
       "object_position": null,
       "order": null,
       "overflow": null,
       "overflow_x": null,
       "overflow_y": null,
       "padding": null,
       "right": null,
       "top": null,
       "visibility": null,
       "width": null
      }
     },
     "9134249815fa472ea508dcb9f019fcd8": {
      "model_module": "@jupyter-widgets/base",
      "model_module_version": "1.2.0",
      "model_name": "LayoutModel",
      "state": {
       "_model_module": "@jupyter-widgets/base",
       "_model_module_version": "1.2.0",
       "_model_name": "LayoutModel",
       "_view_count": null,
       "_view_module": "@jupyter-widgets/base",
       "_view_module_version": "1.2.0",
       "_view_name": "LayoutView",
       "align_content": null,
       "align_items": null,
       "align_self": null,
       "border": null,
       "bottom": null,
       "display": null,
       "flex": null,
       "flex_flow": null,
       "grid_area": null,
       "grid_auto_columns": null,
       "grid_auto_flow": null,
       "grid_auto_rows": null,
       "grid_column": null,
       "grid_gap": null,
       "grid_row": null,
       "grid_template_areas": null,
       "grid_template_columns": null,
       "grid_template_rows": null,
       "height": null,
       "justify_content": null,
       "justify_items": null,
       "left": null,
       "margin": null,
       "max_height": null,
       "max_width": null,
       "min_height": null,
       "min_width": null,
       "object_fit": null,
       "object_position": null,
       "order": null,
       "overflow": null,
       "overflow_x": null,
       "overflow_y": null,
       "padding": null,
       "right": null,
       "top": null,
       "visibility": null,
       "width": null
      }
     },
     "916b3e24c8b3422086363dc0a32bf91b": {
      "model_module": "@jupyter-widgets/controls",
      "model_module_version": "1.5.0",
      "model_name": "DescriptionStyleModel",
      "state": {
       "_model_module": "@jupyter-widgets/controls",
       "_model_module_version": "1.5.0",
       "_model_name": "DescriptionStyleModel",
       "_view_count": null,
       "_view_module": "@jupyter-widgets/base",
       "_view_module_version": "1.2.0",
       "_view_name": "StyleView",
       "description_width": ""
      }
     },
     "92f30367a2224c1ebd2e3916c4d5d20e": {
      "model_module": "@jupyter-widgets/controls",
      "model_module_version": "1.5.0",
      "model_name": "ProgressStyleModel",
      "state": {
       "_model_module": "@jupyter-widgets/controls",
       "_model_module_version": "1.5.0",
       "_model_name": "ProgressStyleModel",
       "_view_count": null,
       "_view_module": "@jupyter-widgets/base",
       "_view_module_version": "1.2.0",
       "_view_name": "StyleView",
       "bar_color": null,
       "description_width": ""
      }
     },
     "946d40e15286498db4007232ce72809e": {
      "model_module": "@jupyter-widgets/base",
      "model_module_version": "1.2.0",
      "model_name": "LayoutModel",
      "state": {
       "_model_module": "@jupyter-widgets/base",
       "_model_module_version": "1.2.0",
       "_model_name": "LayoutModel",
       "_view_count": null,
       "_view_module": "@jupyter-widgets/base",
       "_view_module_version": "1.2.0",
       "_view_name": "LayoutView",
       "align_content": null,
       "align_items": null,
       "align_self": null,
       "border": null,
       "bottom": null,
       "display": null,
       "flex": null,
       "flex_flow": null,
       "grid_area": null,
       "grid_auto_columns": null,
       "grid_auto_flow": null,
       "grid_auto_rows": null,
       "grid_column": null,
       "grid_gap": null,
       "grid_row": null,
       "grid_template_areas": null,
       "grid_template_columns": null,
       "grid_template_rows": null,
       "height": null,
       "justify_content": null,
       "justify_items": null,
       "left": null,
       "margin": null,
       "max_height": null,
       "max_width": null,
       "min_height": null,
       "min_width": null,
       "object_fit": null,
       "object_position": null,
       "order": null,
       "overflow": null,
       "overflow_x": null,
       "overflow_y": null,
       "padding": null,
       "right": null,
       "top": null,
       "visibility": null,
       "width": null
      }
     },
     "956196565e3e4723835328a5c1cb663c": {
      "model_module": "@jupyter-widgets/controls",
      "model_module_version": "1.5.0",
      "model_name": "FloatProgressModel",
      "state": {
       "_dom_classes": [],
       "_model_module": "@jupyter-widgets/controls",
       "_model_module_version": "1.5.0",
       "_model_name": "FloatProgressModel",
       "_view_count": null,
       "_view_module": "@jupyter-widgets/controls",
       "_view_module_version": "1.5.0",
       "_view_name": "ProgressView",
       "bar_style": "",
       "description": "",
       "description_tooltip": null,
       "layout": "IPY_MODEL_fc8fe66cebc3454ebc007d0e17b7db26",
       "max": 1.0,
       "min": 0.0,
       "orientation": "horizontal",
       "style": "IPY_MODEL_0404d747d30c4f37aa39fd439df314a6",
       "value": 1.0
      }
     },
     "9580c4e4599e49c1aeeb077fdc6b0df7": {
      "model_module": "@jupyter-widgets/controls",
      "model_module_version": "1.5.0",
      "model_name": "HTMLModel",
      "state": {
       "_dom_classes": [],
       "_model_module": "@jupyter-widgets/controls",
       "_model_module_version": "1.5.0",
       "_model_name": "HTMLModel",
       "_view_count": null,
       "_view_module": "@jupyter-widgets/controls",
       "_view_module_version": "1.5.0",
       "_view_name": "HTMLView",
       "description": "",
       "description_tooltip": null,
       "layout": "IPY_MODEL_e07288e62a1245dea02b5c1ff67ad1f0",
       "placeholder": "​",
       "style": "IPY_MODEL_b7f855d13d584c429f93b399467a8920",
       "value": " 3904/? [00:00&lt;00:00, 26605.05KB/s]"
      }
     },
     "96949ccd6c9f4a8bb6ec76295731274c": {
      "model_module": "@jupyter-widgets/controls",
      "model_module_version": "1.5.0",
      "model_name": "DescriptionStyleModel",
      "state": {
       "_model_module": "@jupyter-widgets/controls",
       "_model_module_version": "1.5.0",
       "_model_name": "DescriptionStyleModel",
       "_view_count": null,
       "_view_module": "@jupyter-widgets/base",
       "_view_module_version": "1.2.0",
       "_view_name": "StyleView",
       "description_width": ""
      }
     },
     "9d241c5e29b44255b01fe1fd8c9a6b37": {
      "model_module": "@jupyter-widgets/controls",
      "model_module_version": "1.5.0",
      "model_name": "HTMLModel",
      "state": {
       "_dom_classes": [],
       "_model_module": "@jupyter-widgets/controls",
       "_model_module_version": "1.5.0",
       "_model_name": "HTMLModel",
       "_view_count": null,
       "_view_module": "@jupyter-widgets/controls",
       "_view_module_version": "1.5.0",
       "_view_name": "HTMLView",
       "description": "",
       "description_tooltip": null,
       "layout": "IPY_MODEL_d1f9e5731db846f29f0a6b0554ed5a35",
       "placeholder": "​",
       "style": "IPY_MODEL_aae77d5e55c146be83c3b01d92cf75f7",
       "value": " 86/100 [00:22&lt;00:03,  3.61it/s]"
      }
     },
     "9dbac246b14749089caa31746f308512": {
      "model_module": "@jupyter-widgets/controls",
      "model_module_version": "1.5.0",
      "model_name": "FloatProgressModel",
      "state": {
       "_dom_classes": [],
       "_model_module": "@jupyter-widgets/controls",
       "_model_module_version": "1.5.0",
       "_model_name": "FloatProgressModel",
       "_view_count": null,
       "_view_module": "@jupyter-widgets/controls",
       "_view_module_version": "1.5.0",
       "_view_name": "ProgressView",
       "bar_style": "",
       "description": "",
       "description_tooltip": null,
       "layout": "IPY_MODEL_1bd56f79824b48f1af363f623230017d",
       "max": 1.0,
       "min": 0.0,
       "orientation": "horizontal",
       "style": "IPY_MODEL_aafbb0bb9740486982d7a29a085dfe9e",
       "value": 1.0
      }
     },
     "9f6d3d4726da4e579b40fb6b94542404": {
      "model_module": "@jupyter-widgets/base",
      "model_module_version": "1.2.0",
      "model_name": "LayoutModel",
      "state": {
       "_model_module": "@jupyter-widgets/base",
       "_model_module_version": "1.2.0",
       "_model_name": "LayoutModel",
       "_view_count": null,
       "_view_module": "@jupyter-widgets/base",
       "_view_module_version": "1.2.0",
       "_view_name": "LayoutView",
       "align_content": null,
       "align_items": null,
       "align_self": null,
       "border": null,
       "bottom": null,
       "display": null,
       "flex": null,
       "flex_flow": null,
       "grid_area": null,
       "grid_auto_columns": null,
       "grid_auto_flow": null,
       "grid_auto_rows": null,
       "grid_column": null,
       "grid_gap": null,
       "grid_row": null,
       "grid_template_areas": null,
       "grid_template_columns": null,
       "grid_template_rows": null,
       "height": null,
       "justify_content": null,
       "justify_items": null,
       "left": null,
       "margin": null,
       "max_height": null,
       "max_width": null,
       "min_height": null,
       "min_width": null,
       "object_fit": null,
       "object_position": null,
       "order": null,
       "overflow": null,
       "overflow_x": null,
       "overflow_y": null,
       "padding": null,
       "right": null,
       "top": null,
       "visibility": null,
       "width": null
      }
     },
     "9fa1604bf17441e38095d32cb8917200": {
      "model_module": "@jupyter-widgets/controls",
      "model_module_version": "1.5.0",
      "model_name": "HBoxModel",
      "state": {
       "_dom_classes": [],
       "_model_module": "@jupyter-widgets/controls",
       "_model_module_version": "1.5.0",
       "_model_name": "HBoxModel",
       "_view_count": null,
       "_view_module": "@jupyter-widgets/controls",
       "_view_module_version": "1.5.0",
       "_view_name": "HBoxView",
       "box_style": "",
       "children": [
        "IPY_MODEL_03e389deda834e4f831261e89b94bbc6",
        "IPY_MODEL_d6e455b180754ffe968bebadd1796178",
        "IPY_MODEL_f8103d2c57994e48a7c728a08343c634"
       ],
       "layout": "IPY_MODEL_8c9d812368c446f7a178123b7a79136a"
      }
     },
     "a2036a28e3c64800bc897d7c00622e84": {
      "model_module": "@jupyter-widgets/base",
      "model_module_version": "1.2.0",
      "model_name": "LayoutModel",
      "state": {
       "_model_module": "@jupyter-widgets/base",
       "_model_module_version": "1.2.0",
       "_model_name": "LayoutModel",
       "_view_count": null,
       "_view_module": "@jupyter-widgets/base",
       "_view_module_version": "1.2.0",
       "_view_name": "LayoutView",
       "align_content": null,
       "align_items": null,
       "align_self": null,
       "border": null,
       "bottom": null,
       "display": null,
       "flex": null,
       "flex_flow": null,
       "grid_area": null,
       "grid_auto_columns": null,
       "grid_auto_flow": null,
       "grid_auto_rows": null,
       "grid_column": null,
       "grid_gap": null,
       "grid_row": null,
       "grid_template_areas": null,
       "grid_template_columns": null,
       "grid_template_rows": null,
       "height": null,
       "justify_content": null,
       "justify_items": null,
       "left": null,
       "margin": null,
       "max_height": null,
       "max_width": null,
       "min_height": null,
       "min_width": null,
       "object_fit": null,
       "object_position": null,
       "order": null,
       "overflow": null,
       "overflow_x": null,
       "overflow_y": null,
       "padding": null,
       "right": null,
       "top": null,
       "visibility": null,
       "width": null
      }
     },
     "a4995ff7f6c54222b3fed22edc7cbb48": {
      "model_module": "@jupyter-widgets/controls",
      "model_module_version": "1.5.0",
      "model_name": "HTMLModel",
      "state": {
       "_dom_classes": [],
       "_model_module": "@jupyter-widgets/controls",
       "_model_module_version": "1.5.0",
       "_model_name": "HTMLModel",
       "_view_count": null,
       "_view_module": "@jupyter-widgets/controls",
       "_view_module_version": "1.5.0",
       "_view_name": "HTMLView",
       "description": "",
       "description_tooltip": null,
       "layout": "IPY_MODEL_ac4f9a47a6d549d6a76c13a150c8c65c",
       "placeholder": "​",
       "style": "IPY_MODEL_b0d53c13ab0a4d37bb4707f19df2f799",
       "value": " 6/6 [00:01&lt;00:00,  4.41it/s, loss=0.774, v_num=1, train_loss_step=0.739, train_loss_epoch=0.718, val_loss=0.686]"
      }
     },
     "a5a426780235496c81f3bba9f1c69db7": {
      "model_module": "@jupyter-widgets/controls",
      "model_module_version": "1.5.0",
      "model_name": "DescriptionStyleModel",
      "state": {
       "_model_module": "@jupyter-widgets/controls",
       "_model_module_version": "1.5.0",
       "_model_name": "DescriptionStyleModel",
       "_view_count": null,
       "_view_module": "@jupyter-widgets/base",
       "_view_module_version": "1.2.0",
       "_view_name": "StyleView",
       "description_width": ""
      }
     },
     "a8786463cf894473acfd849196061366": {
      "model_module": "@jupyter-widgets/controls",
      "model_module_version": "1.5.0",
      "model_name": "FloatProgressModel",
      "state": {
       "_dom_classes": [],
       "_model_module": "@jupyter-widgets/controls",
       "_model_module_version": "1.5.0",
       "_model_name": "FloatProgressModel",
       "_view_count": null,
       "_view_module": "@jupyter-widgets/controls",
       "_view_module_version": "1.5.0",
       "_view_name": "ProgressView",
       "bar_style": "success",
       "description": "",
       "description_tooltip": null,
       "layout": "IPY_MODEL_5fccb795cba14f839cedec279c261bd2",
       "max": 6.0,
       "min": 0.0,
       "orientation": "horizontal",
       "style": "IPY_MODEL_6459f87804714955b11f760c0c452690",
       "value": 6.0
      }
     },
     "aae77d5e55c146be83c3b01d92cf75f7": {
      "model_module": "@jupyter-widgets/controls",
      "model_module_version": "1.5.0",
      "model_name": "DescriptionStyleModel",
      "state": {
       "_model_module": "@jupyter-widgets/controls",
       "_model_module_version": "1.5.0",
       "_model_name": "DescriptionStyleModel",
       "_view_count": null,
       "_view_module": "@jupyter-widgets/base",
       "_view_module_version": "1.2.0",
       "_view_name": "StyleView",
       "description_width": ""
      }
     },
     "aafbb0bb9740486982d7a29a085dfe9e": {
      "model_module": "@jupyter-widgets/controls",
      "model_module_version": "1.5.0",
      "model_name": "ProgressStyleModel",
      "state": {
       "_model_module": "@jupyter-widgets/controls",
       "_model_module_version": "1.5.0",
       "_model_name": "ProgressStyleModel",
       "_view_count": null,
       "_view_module": "@jupyter-widgets/base",
       "_view_module_version": "1.2.0",
       "_view_name": "StyleView",
       "bar_color": null,
       "description_width": ""
      }
     },
     "ab11b251b3704f448ac6b5ed709dfef5": {
      "model_module": "@jupyter-widgets/controls",
      "model_module_version": "1.5.0",
      "model_name": "ProgressStyleModel",
      "state": {
       "_model_module": "@jupyter-widgets/controls",
       "_model_module_version": "1.5.0",
       "_model_name": "ProgressStyleModel",
       "_view_count": null,
       "_view_module": "@jupyter-widgets/base",
       "_view_module_version": "1.2.0",
       "_view_name": "StyleView",
       "bar_color": null,
       "description_width": ""
      }
     },
     "ac4f9a47a6d549d6a76c13a150c8c65c": {
      "model_module": "@jupyter-widgets/base",
      "model_module_version": "1.2.0",
      "model_name": "LayoutModel",
      "state": {
       "_model_module": "@jupyter-widgets/base",
       "_model_module_version": "1.2.0",
       "_model_name": "LayoutModel",
       "_view_count": null,
       "_view_module": "@jupyter-widgets/base",
       "_view_module_version": "1.2.0",
       "_view_name": "LayoutView",
       "align_content": null,
       "align_items": null,
       "align_self": null,
       "border": null,
       "bottom": null,
       "display": null,
       "flex": null,
       "flex_flow": null,
       "grid_area": null,
       "grid_auto_columns": null,
       "grid_auto_flow": null,
       "grid_auto_rows": null,
       "grid_column": null,
       "grid_gap": null,
       "grid_row": null,
       "grid_template_areas": null,
       "grid_template_columns": null,
       "grid_template_rows": null,
       "height": null,
       "justify_content": null,
       "justify_items": null,
       "left": null,
       "margin": null,
       "max_height": null,
       "max_width": null,
       "min_height": null,
       "min_width": null,
       "object_fit": null,
       "object_position": null,
       "order": null,
       "overflow": null,
       "overflow_x": null,
       "overflow_y": null,
       "padding": null,
       "right": null,
       "top": null,
       "visibility": null,
       "width": null
      }
     },
     "acd3dfbc6d684402a1430f26cc1682a8": {
      "model_module": "@jupyter-widgets/base",
      "model_module_version": "1.2.0",
      "model_name": "LayoutModel",
      "state": {
       "_model_module": "@jupyter-widgets/base",
       "_model_module_version": "1.2.0",
       "_model_name": "LayoutModel",
       "_view_count": null,
       "_view_module": "@jupyter-widgets/base",
       "_view_module_version": "1.2.0",
       "_view_name": "LayoutView",
       "align_content": null,
       "align_items": null,
       "align_self": null,
       "border": null,
       "bottom": null,
       "display": "inline-flex",
       "flex": null,
       "flex_flow": "row wrap",
       "grid_area": null,
       "grid_auto_columns": null,
       "grid_auto_flow": null,
       "grid_auto_rows": null,
       "grid_column": null,
       "grid_gap": null,
       "grid_row": null,
       "grid_template_areas": null,
       "grid_template_columns": null,
       "grid_template_rows": null,
       "height": null,
       "justify_content": null,
       "justify_items": null,
       "left": null,
       "margin": null,
       "max_height": null,
       "max_width": null,
       "min_height": null,
       "min_width": null,
       "object_fit": null,
       "object_position": null,
       "order": null,
       "overflow": null,
       "overflow_x": null,
       "overflow_y": null,
       "padding": null,
       "right": null,
       "top": null,
       "visibility": null,
       "width": "100%"
      }
     },
     "b0d53c13ab0a4d37bb4707f19df2f799": {
      "model_module": "@jupyter-widgets/controls",
      "model_module_version": "1.5.0",
      "model_name": "DescriptionStyleModel",
      "state": {
       "_model_module": "@jupyter-widgets/controls",
       "_model_module_version": "1.5.0",
       "_model_name": "DescriptionStyleModel",
       "_view_count": null,
       "_view_module": "@jupyter-widgets/base",
       "_view_module_version": "1.2.0",
       "_view_name": "StyleView",
       "description_width": ""
      }
     },
     "b0e9a3bd256345e19ac91409830a01e9": {
      "model_module": "@jupyter-widgets/controls",
      "model_module_version": "1.5.0",
      "model_name": "ProgressStyleModel",
      "state": {
       "_model_module": "@jupyter-widgets/controls",
       "_model_module_version": "1.5.0",
       "_model_name": "ProgressStyleModel",
       "_view_count": null,
       "_view_module": "@jupyter-widgets/base",
       "_view_module_version": "1.2.0",
       "_view_name": "StyleView",
       "bar_color": null,
       "description_width": ""
      }
     },
     "b2d7f2923ba04677baf02479d40b8289": {
      "model_module": "@jupyter-widgets/base",
      "model_module_version": "1.2.0",
      "model_name": "LayoutModel",
      "state": {
       "_model_module": "@jupyter-widgets/base",
       "_model_module_version": "1.2.0",
       "_model_name": "LayoutModel",
       "_view_count": null,
       "_view_module": "@jupyter-widgets/base",
       "_view_module_version": "1.2.0",
       "_view_name": "LayoutView",
       "align_content": null,
       "align_items": null,
       "align_self": null,
       "border": null,
       "bottom": null,
       "display": null,
       "flex": null,
       "flex_flow": null,
       "grid_area": null,
       "grid_auto_columns": null,
       "grid_auto_flow": null,
       "grid_auto_rows": null,
       "grid_column": null,
       "grid_gap": null,
       "grid_row": null,
       "grid_template_areas": null,
       "grid_template_columns": null,
       "grid_template_rows": null,
       "height": null,
       "justify_content": null,
       "justify_items": null,
       "left": null,
       "margin": null,
       "max_height": null,
       "max_width": null,
       "min_height": null,
       "min_width": null,
       "object_fit": null,
       "object_position": null,
       "order": null,
       "overflow": null,
       "overflow_x": null,
       "overflow_y": null,
       "padding": null,
       "right": null,
       "top": null,
       "visibility": null,
       "width": null
      }
     },
     "b62d06aa21504830b50eb0fd2a583aae": {
      "model_module": "@jupyter-widgets/controls",
      "model_module_version": "1.5.0",
      "model_name": "DescriptionStyleModel",
      "state": {
       "_model_module": "@jupyter-widgets/controls",
       "_model_module_version": "1.5.0",
       "_model_name": "DescriptionStyleModel",
       "_view_count": null,
       "_view_module": "@jupyter-widgets/base",
       "_view_module_version": "1.2.0",
       "_view_name": "StyleView",
       "description_width": ""
      }
     },
     "b700afc6c39b494fa8e0ef90eac05a34": {
      "model_module": "@jupyter-widgets/controls",
      "model_module_version": "1.5.0",
      "model_name": "HTMLModel",
      "state": {
       "_dom_classes": [],
       "_model_module": "@jupyter-widgets/controls",
       "_model_module_version": "1.5.0",
       "_model_name": "HTMLModel",
       "_view_count": null,
       "_view_module": "@jupyter-widgets/controls",
       "_view_module_version": "1.5.0",
       "_view_name": "HTMLView",
       "description": "",
       "description_tooltip": null,
       "layout": "IPY_MODEL_4b49d1ed0db047d5a39d3e6fdf33c633",
       "placeholder": "​",
       "style": "IPY_MODEL_8b0f69054fad408cbd39da81a9fb2f99",
       "value": "Validation sanity check:   0%"
      }
     },
     "b776999caa6f418f99eaef0007253c98": {
      "model_module": "@jupyter-widgets/base",
      "model_module_version": "1.2.0",
      "model_name": "LayoutModel",
      "state": {
       "_model_module": "@jupyter-widgets/base",
       "_model_module_version": "1.2.0",
       "_model_name": "LayoutModel",
       "_view_count": null,
       "_view_module": "@jupyter-widgets/base",
       "_view_module_version": "1.2.0",
       "_view_name": "LayoutView",
       "align_content": null,
       "align_items": null,
       "align_self": null,
       "border": null,
       "bottom": null,
       "display": "inline-flex",
       "flex": null,
       "flex_flow": "row wrap",
       "grid_area": null,
       "grid_auto_columns": null,
       "grid_auto_flow": null,
       "grid_auto_rows": null,
       "grid_column": null,
       "grid_gap": null,
       "grid_row": null,
       "grid_template_areas": null,
       "grid_template_columns": null,
       "grid_template_rows": null,
       "height": null,
       "justify_content": null,
       "justify_items": null,
       "left": null,
       "margin": null,
       "max_height": null,
       "max_width": null,
       "min_height": null,
       "min_width": null,
       "object_fit": null,
       "object_position": null,
       "order": null,
       "overflow": null,
       "overflow_x": null,
       "overflow_y": null,
       "padding": null,
       "right": null,
       "top": null,
       "visibility": null,
       "width": "100%"
      }
     },
     "b7ac4c86a54c450c9b4420edd955c856": {
      "model_module": "@jupyter-widgets/controls",
      "model_module_version": "1.5.0",
      "model_name": "HTMLModel",
      "state": {
       "_dom_classes": [],
       "_model_module": "@jupyter-widgets/controls",
       "_model_module_version": "1.5.0",
       "_model_name": "HTMLModel",
       "_view_count": null,
       "_view_module": "@jupyter-widgets/controls",
       "_view_module_version": "1.5.0",
       "_view_name": "HTMLView",
       "description": "",
       "description_tooltip": null,
       "layout": "IPY_MODEL_90cae223a8e74dcbb6d04d0aac21968a",
       "placeholder": "​",
       "style": "IPY_MODEL_7973a5618f7a4a48a5c2238571db059d",
       "value": " 0/1 [00:00&lt;?, ?it/s]"
      }
     },
     "b7f855d13d584c429f93b399467a8920": {
      "model_module": "@jupyter-widgets/controls",
      "model_module_version": "1.5.0",
      "model_name": "DescriptionStyleModel",
      "state": {
       "_model_module": "@jupyter-widgets/controls",
       "_model_module_version": "1.5.0",
       "_model_name": "DescriptionStyleModel",
       "_view_count": null,
       "_view_module": "@jupyter-widgets/base",
       "_view_module_version": "1.2.0",
       "_view_name": "StyleView",
       "description_width": ""
      }
     },
     "b9ac98307d2a4af1a465a60454de4061": {
      "model_module": "@jupyter-widgets/controls",
      "model_module_version": "1.5.0",
      "model_name": "HBoxModel",
      "state": {
       "_dom_classes": [],
       "_model_module": "@jupyter-widgets/controls",
       "_model_module_version": "1.5.0",
       "_model_name": "HBoxModel",
       "_view_count": null,
       "_view_module": "@jupyter-widgets/controls",
       "_view_module_version": "1.5.0",
       "_view_name": "HBoxView",
       "box_style": "",
       "children": [
        "IPY_MODEL_0da00aadb43546b789fcfd0e275d53b0",
        "IPY_MODEL_a8786463cf894473acfd849196061366",
        "IPY_MODEL_a4995ff7f6c54222b3fed22edc7cbb48"
       ],
       "layout": "IPY_MODEL_756ac65862a04d199b28739c22c2ef16"
      }
     },
     "bac592acff814a56b485b63e6e0d1b94": {
      "model_module": "@jupyter-widgets/controls",
      "model_module_version": "1.5.0",
      "model_name": "DescriptionStyleModel",
      "state": {
       "_model_module": "@jupyter-widgets/controls",
       "_model_module_version": "1.5.0",
       "_model_name": "DescriptionStyleModel",
       "_view_count": null,
       "_view_module": "@jupyter-widgets/base",
       "_view_module_version": "1.2.0",
       "_view_name": "StyleView",
       "description_width": ""
      }
     },
     "bd8ee02096774ef0a9a38d3b81ac46d6": {
      "model_module": "@jupyter-widgets/controls",
      "model_module_version": "1.5.0",
      "model_name": "DescriptionStyleModel",
      "state": {
       "_model_module": "@jupyter-widgets/controls",
       "_model_module_version": "1.5.0",
       "_model_name": "DescriptionStyleModel",
       "_view_count": null,
       "_view_module": "@jupyter-widgets/base",
       "_view_module_version": "1.2.0",
       "_view_name": "StyleView",
       "description_width": ""
      }
     },
     "c8c8bb353478440dbbac87559c027e8c": {
      "model_module": "@jupyter-widgets/controls",
      "model_module_version": "1.5.0",
      "model_name": "HTMLModel",
      "state": {
       "_dom_classes": [],
       "_model_module": "@jupyter-widgets/controls",
       "_model_module_version": "1.5.0",
       "_model_name": "HTMLModel",
       "_view_count": null,
       "_view_module": "@jupyter-widgets/controls",
       "_view_module_version": "1.5.0",
       "_view_name": "HTMLView",
       "description": "",
       "description_tooltip": null,
       "layout": "IPY_MODEL_3faa857a911c4f91b6dd0c8439ce73d4",
       "placeholder": "​",
       "style": "IPY_MODEL_96949ccd6c9f4a8bb6ec76295731274c",
       "value": " 0/1 [00:00&lt;?, ?it/s]"
      }
     },
     "caa82b4fd3634a48922f5e6362689cac": {
      "model_module": "@jupyter-widgets/base",
      "model_module_version": "1.2.0",
      "model_name": "LayoutModel",
      "state": {
       "_model_module": "@jupyter-widgets/base",
       "_model_module_version": "1.2.0",
       "_model_name": "LayoutModel",
       "_view_count": null,
       "_view_module": "@jupyter-widgets/base",
       "_view_module_version": "1.2.0",
       "_view_name": "LayoutView",
       "align_content": null,
       "align_items": null,
       "align_self": null,
       "border": null,
       "bottom": null,
       "display": null,
       "flex": null,
       "flex_flow": null,
       "grid_area": null,
       "grid_auto_columns": null,
       "grid_auto_flow": null,
       "grid_auto_rows": null,
       "grid_column": null,
       "grid_gap": null,
       "grid_row": null,
       "grid_template_areas": null,
       "grid_template_columns": null,
       "grid_template_rows": null,
       "height": null,
       "justify_content": null,
       "justify_items": null,
       "left": null,
       "margin": null,
       "max_height": null,
       "max_width": null,
       "min_height": null,
       "min_width": null,
       "object_fit": null,
       "object_position": null,
       "order": null,
       "overflow": null,
       "overflow_x": null,
       "overflow_y": null,
       "padding": null,
       "right": null,
       "top": null,
       "visibility": null,
       "width": null
      }
     },
     "cb36d47718b649e3a500eeb533dca9ca": {
      "model_module": "@jupyter-widgets/base",
      "model_module_version": "1.2.0",
      "model_name": "LayoutModel",
      "state": {
       "_model_module": "@jupyter-widgets/base",
       "_model_module_version": "1.2.0",
       "_model_name": "LayoutModel",
       "_view_count": null,
       "_view_module": "@jupyter-widgets/base",
       "_view_module_version": "1.2.0",
       "_view_name": "LayoutView",
       "align_content": null,
       "align_items": null,
       "align_self": null,
       "border": null,
       "bottom": null,
       "display": "inline-flex",
       "flex": null,
       "flex_flow": "row wrap",
       "grid_area": null,
       "grid_auto_columns": null,
       "grid_auto_flow": null,
       "grid_auto_rows": null,
       "grid_column": null,
       "grid_gap": null,
       "grid_row": null,
       "grid_template_areas": null,
       "grid_template_columns": null,
       "grid_template_rows": null,
       "height": null,
       "justify_content": null,
       "justify_items": null,
       "left": null,
       "margin": null,
       "max_height": null,
       "max_width": null,
       "min_height": null,
       "min_width": null,
       "object_fit": null,
       "object_position": null,
       "order": null,
       "overflow": null,
       "overflow_x": null,
       "overflow_y": null,
       "padding": null,
       "right": null,
       "top": null,
       "visibility": null,
       "width": "100%"
      }
     },
     "cd45c55f76934c9397f3a806684d6489": {
      "model_module": "@jupyter-widgets/base",
      "model_module_version": "1.2.0",
      "model_name": "LayoutModel",
      "state": {
       "_model_module": "@jupyter-widgets/base",
       "_model_module_version": "1.2.0",
       "_model_name": "LayoutModel",
       "_view_count": null,
       "_view_module": "@jupyter-widgets/base",
       "_view_module_version": "1.2.0",
       "_view_name": "LayoutView",
       "align_content": null,
       "align_items": null,
       "align_self": null,
       "border": null,
       "bottom": null,
       "display": null,
       "flex": null,
       "flex_flow": null,
       "grid_area": null,
       "grid_auto_columns": null,
       "grid_auto_flow": null,
       "grid_auto_rows": null,
       "grid_column": null,
       "grid_gap": null,
       "grid_row": null,
       "grid_template_areas": null,
       "grid_template_columns": null,
       "grid_template_rows": null,
       "height": null,
       "justify_content": null,
       "justify_items": null,
       "left": null,
       "margin": null,
       "max_height": null,
       "max_width": null,
       "min_height": null,
       "min_width": null,
       "object_fit": null,
       "object_position": null,
       "order": null,
       "overflow": null,
       "overflow_x": null,
       "overflow_y": null,
       "padding": null,
       "right": null,
       "top": null,
       "visibility": null,
       "width": null
      }
     },
     "d0eac29b3c7342f6941f5b04158e6698": {
      "model_module": "@jupyter-widgets/controls",
      "model_module_version": "1.5.0",
      "model_name": "HTMLModel",
      "state": {
       "_dom_classes": [],
       "_model_module": "@jupyter-widgets/controls",
       "_model_module_version": "1.5.0",
       "_model_name": "HTMLModel",
       "_view_count": null,
       "_view_module": "@jupyter-widgets/controls",
       "_view_module_version": "1.5.0",
       "_view_name": "HTMLView",
       "description": "",
       "description_tooltip": null,
       "layout": "IPY_MODEL_4ffc463a85c446f18cc45634d965bcfc",
       "placeholder": "​",
       "style": "IPY_MODEL_3e51192b0a704c078454f6dcdce009c5",
       "value": "Validating:   0%"
      }
     },
     "d1f9e5731db846f29f0a6b0554ed5a35": {
      "model_module": "@jupyter-widgets/base",
      "model_module_version": "1.2.0",
      "model_name": "LayoutModel",
      "state": {
       "_model_module": "@jupyter-widgets/base",
       "_model_module_version": "1.2.0",
       "_model_name": "LayoutModel",
       "_view_count": null,
       "_view_module": "@jupyter-widgets/base",
       "_view_module_version": "1.2.0",
       "_view_name": "LayoutView",
       "align_content": null,
       "align_items": null,
       "align_self": null,
       "border": null,
       "bottom": null,
       "display": null,
       "flex": null,
       "flex_flow": null,
       "grid_area": null,
       "grid_auto_columns": null,
       "grid_auto_flow": null,
       "grid_auto_rows": null,
       "grid_column": null,
       "grid_gap": null,
       "grid_row": null,
       "grid_template_areas": null,
       "grid_template_columns": null,
       "grid_template_rows": null,
       "height": null,
       "justify_content": null,
       "justify_items": null,
       "left": null,
       "margin": null,
       "max_height": null,
       "max_width": null,
       "min_height": null,
       "min_width": null,
       "object_fit": null,
       "object_position": null,
       "order": null,
       "overflow": null,
       "overflow_x": null,
       "overflow_y": null,
       "padding": null,
       "right": null,
       "top": null,
       "visibility": null,
       "width": null
      }
     },
     "d4f7fced1b8044019a032d3d4eaee15b": {
      "model_module": "@jupyter-widgets/base",
      "model_module_version": "1.2.0",
      "model_name": "LayoutModel",
      "state": {
       "_model_module": "@jupyter-widgets/base",
       "_model_module_version": "1.2.0",
       "_model_name": "LayoutModel",
       "_view_count": null,
       "_view_module": "@jupyter-widgets/base",
       "_view_module_version": "1.2.0",
       "_view_name": "LayoutView",
       "align_content": null,
       "align_items": null,
       "align_self": null,
       "border": null,
       "bottom": null,
       "display": null,
       "flex": null,
       "flex_flow": null,
       "grid_area": null,
       "grid_auto_columns": null,
       "grid_auto_flow": null,
       "grid_auto_rows": null,
       "grid_column": null,
       "grid_gap": null,
       "grid_row": null,
       "grid_template_areas": null,
       "grid_template_columns": null,
       "grid_template_rows": null,
       "height": null,
       "justify_content": null,
       "justify_items": null,
       "left": null,
       "margin": null,
       "max_height": null,
       "max_width": null,
       "min_height": null,
       "min_width": null,
       "object_fit": null,
       "object_position": null,
       "order": null,
       "overflow": null,
       "overflow_x": null,
       "overflow_y": null,
       "padding": null,
       "right": null,
       "top": null,
       "visibility": null,
       "width": null
      }
     },
     "d500965a48e548a085dfb7ac5abcbd21": {
      "model_module": "@jupyter-widgets/controls",
      "model_module_version": "1.5.0",
      "model_name": "HBoxModel",
      "state": {
       "_dom_classes": [],
       "_model_module": "@jupyter-widgets/controls",
       "_model_module_version": "1.5.0",
       "_model_name": "HBoxModel",
       "_view_count": null,
       "_view_module": "@jupyter-widgets/controls",
       "_view_module_version": "1.5.0",
       "_view_name": "HBoxView",
       "box_style": "",
       "children": [
        "IPY_MODEL_04fce37215d748bcba538067cff7bab2",
        "IPY_MODEL_209b0ac90cbd4ccf97c18d44a2c9d908",
        "IPY_MODEL_540b287000774f8482dc6b3d86f5f5f5"
       ],
       "layout": "IPY_MODEL_6d1fa454a0054acf9ca0e19f2dac2ee2"
      }
     },
     "d523995a77de4c68a8b91837b7741853": {
      "model_module": "@jupyter-widgets/controls",
      "model_module_version": "1.5.0",
      "model_name": "HTMLModel",
      "state": {
       "_dom_classes": [],
       "_model_module": "@jupyter-widgets/controls",
       "_model_module_version": "1.5.0",
       "_model_name": "HTMLModel",
       "_view_count": null,
       "_view_module": "@jupyter-widgets/controls",
       "_view_module_version": "1.5.0",
       "_view_name": "HTMLView",
       "description": "",
       "description_tooltip": null,
       "layout": "IPY_MODEL_dff7faafd607436a85d7d592b18e09b6",
       "placeholder": "​",
       "style": "IPY_MODEL_629e1b3cb017456ca4f8eae4019192ea",
       "value": " 0/1 [00:00&lt;?, ?it/s]"
      }
     },
     "d5c4be84217e40608b5e1b900adf5908": {
      "model_module": "@jupyter-widgets/controls",
      "model_module_version": "1.5.0",
      "model_name": "DescriptionStyleModel",
      "state": {
       "_model_module": "@jupyter-widgets/controls",
       "_model_module_version": "1.5.0",
       "_model_name": "DescriptionStyleModel",
       "_view_count": null,
       "_view_module": "@jupyter-widgets/base",
       "_view_module_version": "1.2.0",
       "_view_name": "StyleView",
       "description_width": ""
      }
     },
     "d6674411c05849d4a1e42e98231ed972": {
      "model_module": "@jupyter-widgets/controls",
      "model_module_version": "1.5.0",
      "model_name": "DescriptionStyleModel",
      "state": {
       "_model_module": "@jupyter-widgets/controls",
       "_model_module_version": "1.5.0",
       "_model_name": "DescriptionStyleModel",
       "_view_count": null,
       "_view_module": "@jupyter-widgets/base",
       "_view_module_version": "1.2.0",
       "_view_name": "StyleView",
       "description_width": ""
      }
     },
     "d6e455b180754ffe968bebadd1796178": {
      "model_module": "@jupyter-widgets/controls",
      "model_module_version": "1.5.0",
      "model_name": "FloatProgressModel",
      "state": {
       "_dom_classes": [],
       "_model_module": "@jupyter-widgets/controls",
       "_model_module_version": "1.5.0",
       "_model_name": "FloatProgressModel",
       "_view_count": null,
       "_view_module": "@jupyter-widgets/controls",
       "_view_module_version": "1.5.0",
       "_view_name": "ProgressView",
       "bar_style": "",
       "description": "",
       "description_tooltip": null,
       "layout": "IPY_MODEL_1c3143d6b0254ba8adb462f3793eff17",
       "max": 1.0,
       "min": 0.0,
       "orientation": "horizontal",
       "style": "IPY_MODEL_431169cd63c64c679dd9e8ba784ddc27",
       "value": 1.0
      }
     },
     "d79ca7152807471f9fb69aef071623a7": {
      "model_module": "@jupyter-widgets/controls",
      "model_module_version": "1.5.0",
      "model_name": "HTMLModel",
      "state": {
       "_dom_classes": [],
       "_model_module": "@jupyter-widgets/controls",
       "_model_module_version": "1.5.0",
       "_model_name": "HTMLModel",
       "_view_count": null,
       "_view_module": "@jupyter-widgets/controls",
       "_view_module_version": "1.5.0",
       "_view_name": "HTMLView",
       "description": "",
       "description_tooltip": null,
       "layout": "IPY_MODEL_7cbabf566c9c4eb8abf38ad71876a529",
       "placeholder": "​",
       "style": "IPY_MODEL_d6674411c05849d4a1e42e98231ed972",
       "value": " 0/1 [00:00&lt;?, ?it/s]"
      }
     },
     "d9887670f79a410196bd65f688d9a45a": {
      "model_module": "@jupyter-widgets/controls",
      "model_module_version": "1.5.0",
      "model_name": "HTMLModel",
      "state": {
       "_dom_classes": [],
       "_model_module": "@jupyter-widgets/controls",
       "_model_module_version": "1.5.0",
       "_model_name": "HTMLModel",
       "_view_count": null,
       "_view_module": "@jupyter-widgets/controls",
       "_view_module_version": "1.5.0",
       "_view_name": "HTMLView",
       "description": "",
       "description_tooltip": null,
       "layout": "IPY_MODEL_875949658e8f4b35a0e3209a83ca9af2",
       "placeholder": "​",
       "style": "IPY_MODEL_90cd219fb89444e8ad1f5e1086ba34f9",
       "value": "Validating:   0%"
      }
     },
     "df0bf9e1882f43fca93aa55abdeaface": {
      "model_module": "@jupyter-widgets/controls",
      "model_module_version": "1.5.0",
      "model_name": "DescriptionStyleModel",
      "state": {
       "_model_module": "@jupyter-widgets/controls",
       "_model_module_version": "1.5.0",
       "_model_name": "DescriptionStyleModel",
       "_view_count": null,
       "_view_module": "@jupyter-widgets/base",
       "_view_module_version": "1.2.0",
       "_view_name": "StyleView",
       "description_width": ""
      }
     },
     "dff7faafd607436a85d7d592b18e09b6": {
      "model_module": "@jupyter-widgets/base",
      "model_module_version": "1.2.0",
      "model_name": "LayoutModel",
      "state": {
       "_model_module": "@jupyter-widgets/base",
       "_model_module_version": "1.2.0",
       "_model_name": "LayoutModel",
       "_view_count": null,
       "_view_module": "@jupyter-widgets/base",
       "_view_module_version": "1.2.0",
       "_view_name": "LayoutView",
       "align_content": null,
       "align_items": null,
       "align_self": null,
       "border": null,
       "bottom": null,
       "display": null,
       "flex": null,
       "flex_flow": null,
       "grid_area": null,
       "grid_auto_columns": null,
       "grid_auto_flow": null,
       "grid_auto_rows": null,
       "grid_column": null,
       "grid_gap": null,
       "grid_row": null,
       "grid_template_areas": null,
       "grid_template_columns": null,
       "grid_template_rows": null,
       "height": null,
       "justify_content": null,
       "justify_items": null,
       "left": null,
       "margin": null,
       "max_height": null,
       "max_width": null,
       "min_height": null,
       "min_width": null,
       "object_fit": null,
       "object_position": null,
       "order": null,
       "overflow": null,
       "overflow_x": null,
       "overflow_y": null,
       "padding": null,
       "right": null,
       "top": null,
       "visibility": null,
       "width": null
      }
     },
     "e07288e62a1245dea02b5c1ff67ad1f0": {
      "model_module": "@jupyter-widgets/base",
      "model_module_version": "1.2.0",
      "model_name": "LayoutModel",
      "state": {
       "_model_module": "@jupyter-widgets/base",
       "_model_module_version": "1.2.0",
       "_model_name": "LayoutModel",
       "_view_count": null,
       "_view_module": "@jupyter-widgets/base",
       "_view_module_version": "1.2.0",
       "_view_name": "LayoutView",
       "align_content": null,
       "align_items": null,
       "align_self": null,
       "border": null,
       "bottom": null,
       "display": null,
       "flex": null,
       "flex_flow": null,
       "grid_area": null,
       "grid_auto_columns": null,
       "grid_auto_flow": null,
       "grid_auto_rows": null,
       "grid_column": null,
       "grid_gap": null,
       "grid_row": null,
       "grid_template_areas": null,
       "grid_template_columns": null,
       "grid_template_rows": null,
       "height": null,
       "justify_content": null,
       "justify_items": null,
       "left": null,
       "margin": null,
       "max_height": null,
       "max_width": null,
       "min_height": null,
       "min_width": null,
       "object_fit": null,
       "object_position": null,
       "order": null,
       "overflow": null,
       "overflow_x": null,
       "overflow_y": null,
       "padding": null,
       "right": null,
       "top": null,
       "visibility": null,
       "width": null
      }
     },
     "e55839ad9dc54e0bb1f87c88dd817ecd": {
      "model_module": "@jupyter-widgets/controls",
      "model_module_version": "1.5.0",
      "model_name": "ProgressStyleModel",
      "state": {
       "_model_module": "@jupyter-widgets/controls",
       "_model_module_version": "1.5.0",
       "_model_name": "ProgressStyleModel",
       "_view_count": null,
       "_view_module": "@jupyter-widgets/base",
       "_view_module_version": "1.2.0",
       "_view_name": "StyleView",
       "bar_color": null,
       "description_width": ""
      }
     },
     "e55c28424f4e4c389a663f33cd5ba8af": {
      "model_module": "@jupyter-widgets/controls",
      "model_module_version": "1.5.0",
      "model_name": "HTMLModel",
      "state": {
       "_dom_classes": [],
       "_model_module": "@jupyter-widgets/controls",
       "_model_module_version": "1.5.0",
       "_model_name": "HTMLModel",
       "_view_count": null,
       "_view_module": "@jupyter-widgets/controls",
       "_view_module_version": "1.5.0",
       "_view_name": "HTMLView",
       "description": "",
       "description_tooltip": null,
       "layout": "IPY_MODEL_41b28f94da984892b85063c5433422ed",
       "placeholder": "​",
       "style": "IPY_MODEL_d5c4be84217e40608b5e1b900adf5908",
       "value": "Finding best initial lr:  86%"
      }
     },
     "e9cb9c27ede247b7a641b732fafa88b6": {
      "model_module": "@jupyter-widgets/base",
      "model_module_version": "1.2.0",
      "model_name": "LayoutModel",
      "state": {
       "_model_module": "@jupyter-widgets/base",
       "_model_module_version": "1.2.0",
       "_model_name": "LayoutModel",
       "_view_count": null,
       "_view_module": "@jupyter-widgets/base",
       "_view_module_version": "1.2.0",
       "_view_name": "LayoutView",
       "align_content": null,
       "align_items": null,
       "align_self": null,
       "border": null,
       "bottom": null,
       "display": null,
       "flex": null,
       "flex_flow": null,
       "grid_area": null,
       "grid_auto_columns": null,
       "grid_auto_flow": null,
       "grid_auto_rows": null,
       "grid_column": null,
       "grid_gap": null,
       "grid_row": null,
       "grid_template_areas": null,
       "grid_template_columns": null,
       "grid_template_rows": null,
       "height": null,
       "justify_content": null,
       "justify_items": null,
       "left": null,
       "margin": null,
       "max_height": null,
       "max_width": null,
       "min_height": null,
       "min_width": null,
       "object_fit": null,
       "object_position": null,
       "order": null,
       "overflow": null,
       "overflow_x": null,
       "overflow_y": null,
       "padding": null,
       "right": null,
       "top": null,
       "visibility": null,
       "width": null
      }
     },
     "f21c9280b51448338aa5c2d80cff4ad9": {
      "model_module": "@jupyter-widgets/base",
      "model_module_version": "1.2.0",
      "model_name": "LayoutModel",
      "state": {
       "_model_module": "@jupyter-widgets/base",
       "_model_module_version": "1.2.0",
       "_model_name": "LayoutModel",
       "_view_count": null,
       "_view_module": "@jupyter-widgets/base",
       "_view_module_version": "1.2.0",
       "_view_name": "LayoutView",
       "align_content": null,
       "align_items": null,
       "align_self": null,
       "border": null,
       "bottom": null,
       "display": null,
       "flex": null,
       "flex_flow": null,
       "grid_area": null,
       "grid_auto_columns": null,
       "grid_auto_flow": null,
       "grid_auto_rows": null,
       "grid_column": null,
       "grid_gap": null,
       "grid_row": null,
       "grid_template_areas": null,
       "grid_template_columns": null,
       "grid_template_rows": null,
       "height": null,
       "justify_content": null,
       "justify_items": null,
       "left": null,
       "margin": null,
       "max_height": null,
       "max_width": null,
       "min_height": null,
       "min_width": null,
       "object_fit": null,
       "object_position": null,
       "order": null,
       "overflow": null,
       "overflow_x": null,
       "overflow_y": null,
       "padding": null,
       "right": null,
       "top": null,
       "visibility": null,
       "width": null
      }
     },
     "f32df556439c436ca59a0f768f612bb3": {
      "model_module": "@jupyter-widgets/controls",
      "model_module_version": "1.5.0",
      "model_name": "HTMLModel",
      "state": {
       "_dom_classes": [],
       "_model_module": "@jupyter-widgets/controls",
       "_model_module_version": "1.5.0",
       "_model_name": "HTMLModel",
       "_view_count": null,
       "_view_module": "@jupyter-widgets/controls",
       "_view_module_version": "1.5.0",
       "_view_name": "HTMLView",
       "description": "",
       "description_tooltip": null,
       "layout": "IPY_MODEL_490d9113bca94533b4667f91b46c7760",
       "placeholder": "​",
       "style": "IPY_MODEL_1c5492faa654440cbb87563af86b60ac",
       "value": "Validating:   0%"
      }
     },
     "f8103d2c57994e48a7c728a08343c634": {
      "model_module": "@jupyter-widgets/controls",
      "model_module_version": "1.5.0",
      "model_name": "HTMLModel",
      "state": {
       "_dom_classes": [],
       "_model_module": "@jupyter-widgets/controls",
       "_model_module_version": "1.5.0",
       "_model_name": "HTMLModel",
       "_view_count": null,
       "_view_module": "@jupyter-widgets/controls",
       "_view_module_version": "1.5.0",
       "_view_name": "HTMLView",
       "description": "",
       "description_tooltip": null,
       "layout": "IPY_MODEL_cd45c55f76934c9397f3a806684d6489",
       "placeholder": "​",
       "style": "IPY_MODEL_df0bf9e1882f43fca93aa55abdeaface",
       "value": " 0/1 [00:00&lt;?, ?it/s]"
      }
     },
     "f821d18e0f3b4f35a1c9f9fd07959777": {
      "model_module": "@jupyter-widgets/base",
      "model_module_version": "1.2.0",
      "model_name": "LayoutModel",
      "state": {
       "_model_module": "@jupyter-widgets/base",
       "_model_module_version": "1.2.0",
       "_model_name": "LayoutModel",
       "_view_count": null,
       "_view_module": "@jupyter-widgets/base",
       "_view_module_version": "1.2.0",
       "_view_name": "LayoutView",
       "align_content": null,
       "align_items": null,
       "align_self": null,
       "border": null,
       "bottom": null,
       "display": "inline-flex",
       "flex": null,
       "flex_flow": "row wrap",
       "grid_area": null,
       "grid_auto_columns": null,
       "grid_auto_flow": null,
       "grid_auto_rows": null,
       "grid_column": null,
       "grid_gap": null,
       "grid_row": null,
       "grid_template_areas": null,
       "grid_template_columns": null,
       "grid_template_rows": null,
       "height": null,
       "justify_content": null,
       "justify_items": null,
       "left": null,
       "margin": null,
       "max_height": null,
       "max_width": null,
       "min_height": null,
       "min_width": null,
       "object_fit": null,
       "object_position": null,
       "order": null,
       "overflow": null,
       "overflow_x": null,
       "overflow_y": null,
       "padding": null,
       "right": null,
       "top": null,
       "visibility": null,
       "width": "100%"
      }
     },
     "f823805e48b547c0aad22886f8b8ab4e": {
      "model_module": "@jupyter-widgets/controls",
      "model_module_version": "1.5.0",
      "model_name": "HTMLModel",
      "state": {
       "_dom_classes": [],
       "_model_module": "@jupyter-widgets/controls",
       "_model_module_version": "1.5.0",
       "_model_name": "HTMLModel",
       "_view_count": null,
       "_view_module": "@jupyter-widgets/controls",
       "_view_module_version": "1.5.0",
       "_view_name": "HTMLView",
       "description": "",
       "description_tooltip": null,
       "layout": "IPY_MODEL_2bba7870992540feade5cddb0ffacd44",
       "placeholder": "​",
       "style": "IPY_MODEL_b62d06aa21504830b50eb0fd2a583aae",
       "value": " 0/1 [00:00&lt;?, ?it/s]"
      }
     },
     "fb825e88d997478cb642b80772e0c513": {
      "model_module": "@jupyter-widgets/controls",
      "model_module_version": "1.5.0",
      "model_name": "FloatProgressModel",
      "state": {
       "_dom_classes": [],
       "_model_module": "@jupyter-widgets/controls",
       "_model_module_version": "1.5.0",
       "_model_name": "FloatProgressModel",
       "_view_count": null,
       "_view_module": "@jupyter-widgets/controls",
       "_view_module_version": "1.5.0",
       "_view_name": "ProgressView",
       "bar_style": "",
       "description": "",
       "description_tooltip": null,
       "layout": "IPY_MODEL_73ebef4dabbf415c964c8d37e663135e",
       "max": 1.0,
       "min": 0.0,
       "orientation": "horizontal",
       "style": "IPY_MODEL_b0e9a3bd256345e19ac91409830a01e9",
       "value": 1.0
      }
     },
     "fc8fe66cebc3454ebc007d0e17b7db26": {
      "model_module": "@jupyter-widgets/base",
      "model_module_version": "1.2.0",
      "model_name": "LayoutModel",
      "state": {
       "_model_module": "@jupyter-widgets/base",
       "_model_module_version": "1.2.0",
       "_model_name": "LayoutModel",
       "_view_count": null,
       "_view_module": "@jupyter-widgets/base",
       "_view_module_version": "1.2.0",
       "_view_name": "LayoutView",
       "align_content": null,
       "align_items": null,
       "align_self": null,
       "border": null,
       "bottom": null,
       "display": null,
       "flex": "2",
       "flex_flow": null,
       "grid_area": null,
       "grid_auto_columns": null,
       "grid_auto_flow": null,
       "grid_auto_rows": null,
       "grid_column": null,
       "grid_gap": null,
       "grid_row": null,
       "grid_template_areas": null,
       "grid_template_columns": null,
       "grid_template_rows": null,
       "height": null,
       "justify_content": null,
       "justify_items": null,
       "left": null,
       "margin": null,
       "max_height": null,
       "max_width": null,
       "min_height": null,
       "min_width": null,
       "object_fit": null,
       "object_position": null,
       "order": null,
       "overflow": null,
       "overflow_x": null,
       "overflow_y": null,
       "padding": null,
       "right": null,
       "top": null,
       "visibility": null,
       "width": null
      }
     },
     "fdcbcac40bf4461d975c4a8350497139": {
      "model_module": "@jupyter-widgets/controls",
      "model_module_version": "1.5.0",
      "model_name": "ProgressStyleModel",
      "state": {
       "_model_module": "@jupyter-widgets/controls",
       "_model_module_version": "1.5.0",
       "_model_name": "ProgressStyleModel",
       "_view_count": null,
       "_view_module": "@jupyter-widgets/base",
       "_view_module_version": "1.2.0",
       "_view_name": "StyleView",
       "bar_color": null,
       "description_width": ""
      }
     },
     "fe15529fbab94b9089e1f1482901999e": {
      "model_module": "@jupyter-widgets/controls",
      "model_module_version": "1.5.0",
      "model_name": "HBoxModel",
      "state": {
       "_dom_classes": [],
       "_model_module": "@jupyter-widgets/controls",
       "_model_module_version": "1.5.0",
       "_model_name": "HBoxModel",
       "_view_count": null,
       "_view_module": "@jupyter-widgets/controls",
       "_view_module_version": "1.5.0",
       "_view_name": "HBoxView",
       "box_style": "",
       "children": [
        "IPY_MODEL_f32df556439c436ca59a0f768f612bb3",
        "IPY_MODEL_6dc0af0dc869496286ddd0ad90d2caba",
        "IPY_MODEL_7cfa3406a0f44370bdab4fae90f1aa71"
       ],
       "layout": "IPY_MODEL_cb36d47718b649e3a500eeb533dca9ca"
      }
     },
     "fffcbc0acca342c68c1b6089d7d6ab11": {
      "model_module": "@jupyter-widgets/controls",
      "model_module_version": "1.5.0",
      "model_name": "FloatProgressModel",
      "state": {
       "_dom_classes": [],
       "_model_module": "@jupyter-widgets/controls",
       "_model_module_version": "1.5.0",
       "_model_name": "FloatProgressModel",
       "_view_count": null,
       "_view_module": "@jupyter-widgets/controls",
       "_view_module_version": "1.5.0",
       "_view_name": "ProgressView",
       "bar_style": "",
       "description": "",
       "description_tooltip": null,
       "layout": "IPY_MODEL_678a1665a7ab4b3f92dd1ae59580adbd",
       "max": 1.0,
       "min": 0.0,
       "orientation": "horizontal",
       "style": "IPY_MODEL_47cc936db6bb4ff198b591292f5598ef",
       "value": 1.0
      }
     }
    },
    "version_major": 2,
    "version_minor": 0
   }
  }
 },
 "nbformat": 4,
 "nbformat_minor": 5
}
